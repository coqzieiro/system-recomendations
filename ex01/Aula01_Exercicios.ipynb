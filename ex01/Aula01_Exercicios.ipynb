{
 "cells": [
  {
   "cell_type": "markdown",
   "metadata": {
    "id": "y0xocXpOp2QB"
   },
   "source": [
    "### Importar base de dados e instalar framework de recomendação"
   ]
  },
  {
   "cell_type": "markdown",
   "metadata": {
    "id": "aYRhN3GYp2QO"
   },
   "source": [
    "### Importar bibliotecas"
   ]
  },
  {
   "cell_type": "code",
   "execution_count": 24,
   "metadata": {},
   "outputs": [
    {
     "name": "stdout",
     "output_type": "stream",
     "text": [
      "100% [....................................................] 65019041 / 65019041\n",
      "Saved under ml-20m-compact.tar (1).gz\n",
      "dataset/\n",
      "dataset/tags_sample.csv\n",
      "dataset/._.DS_Store\n",
      "dataset/.DS_Store\n",
      "dataset/movies_sample.csv\n",
      "dataset/._genome-tags.csv\n",
      "dataset/genome-tags.csv\n",
      "dataset/._ml-youtube.csv\n",
      "dataset/ml-youtube.csv\n",
      "dataset/._genome-scores.csv\n",
      "dataset/genome-scores.csv\n",
      "dataset/ratings_sample.csv\n"
     ]
    }
   ],
   "source": [
    "import wget\n",
    "!python3 -m wget https://github.com/mmanzato/MBABigData/raw/master/ml-20m-compact.tar.gz\n",
    "!tar -xvzf ml-20m-compact.tar.gz"
   ]
  },
  {
   "cell_type": "code",
   "execution_count": 25,
   "metadata": {},
   "outputs": [
    {
     "name": "stdout",
     "output_type": "stream",
     "text": [
      "Requirement already satisfied: caserecommender in /usr/local/lib/python3.10/dist-packages (1.1.1)\n",
      "Requirement already satisfied: numpy in /home/coqzieiro/.local/lib/python3.10/site-packages (from caserecommender) (1.26.4)\n",
      "Requirement already satisfied: scipy in /home/coqzieiro/.local/lib/python3.10/site-packages (from caserecommender) (1.11.4)\n",
      "Requirement already satisfied: scikit-learn in /home/coqzieiro/.local/lib/python3.10/site-packages (from caserecommender) (1.4.1.post1)\n",
      "Requirement already satisfied: pandas in /home/coqzieiro/.local/lib/python3.10/site-packages (from caserecommender) (2.2.3)\n",
      "Requirement already satisfied: tzdata>=2022.7 in /usr/local/lib/python3.10/dist-packages (from pandas->caserecommender) (2025.2)\n",
      "Requirement already satisfied: pytz>=2020.1 in /usr/local/lib/python3.10/dist-packages (from pandas->caserecommender) (2025.2)\n",
      "Requirement already satisfied: python-dateutil>=2.8.2 in /usr/local/lib/python3.10/dist-packages (from pandas->caserecommender) (2.8.2)\n",
      "Requirement already satisfied: joblib>=1.2.0 in /home/coqzieiro/.local/lib/python3.10/site-packages (from scikit-learn->caserecommender) (1.3.2)\n",
      "Requirement already satisfied: threadpoolctl>=2.0.0 in /home/coqzieiro/.local/lib/python3.10/site-packages (from scikit-learn->caserecommender) (3.4.0)\n",
      "Requirement already satisfied: six>=1.5 in /usr/lib/python3/dist-packages (from python-dateutil>=2.8.2->pandas->caserecommender) (1.16.0)\n"
     ]
    }
   ],
   "source": [
    "import sys\n",
    "!{sys.executable} -m pip install caserecommender"
   ]
  },
  {
   "cell_type": "code",
   "execution_count": 26,
   "metadata": {
    "executionInfo": {
     "elapsed": 26,
     "status": "ok",
     "timestamp": 1651265264070,
     "user": {
      "displayName": "Marcelo Manzato",
      "userId": "04825752819034907940"
     },
     "user_tz": 180
    },
    "id": "MqgnlqsLp2QP"
   },
   "outputs": [],
   "source": [
    "import pandas as pd\n",
    "import numpy as np"
   ]
  },
  {
   "cell_type": "markdown",
   "metadata": {
    "id": "LQODRAP5p2QY"
   },
   "source": [
    "### Explorar Dados"
   ]
  },
  {
   "cell_type": "code",
   "execution_count": 27,
   "metadata": {
    "colab": {
     "base_uri": "https://localhost:8080/",
     "height": 206
    },
    "executionInfo": {
     "elapsed": 14,
     "status": "ok",
     "timestamp": 1651265269193,
     "user": {
      "displayName": "Marcelo Manzato",
      "userId": "04825752819034907940"
     },
     "user_tz": 180
    },
    "id": "vraDuP8Hp2QZ",
    "outputId": "b4070cdf-edfc-42b0-be21-d9056d125f36"
   },
   "outputs": [
    {
     "data": {
      "text/html": [
       "<div>\n",
       "<style scoped>\n",
       "    .dataframe tbody tr th:only-of-type {\n",
       "        vertical-align: middle;\n",
       "    }\n",
       "\n",
       "    .dataframe tbody tr th {\n",
       "        vertical-align: top;\n",
       "    }\n",
       "\n",
       "    .dataframe thead th {\n",
       "        text-align: right;\n",
       "    }\n",
       "</style>\n",
       "<table border=\"1\" class=\"dataframe\">\n",
       "  <thead>\n",
       "    <tr style=\"text-align: right;\">\n",
       "      <th></th>\n",
       "      <th>movieId</th>\n",
       "      <th>title</th>\n",
       "      <th>genres</th>\n",
       "    </tr>\n",
       "  </thead>\n",
       "  <tbody>\n",
       "    <tr>\n",
       "      <th>428</th>\n",
       "      <td>129857</td>\n",
       "      <td>Bright Days Ahead (2013)</td>\n",
       "      <td>Drama|Romance</td>\n",
       "    </tr>\n",
       "    <tr>\n",
       "      <th>429</th>\n",
       "      <td>130344</td>\n",
       "      <td>Coast of Death (2013)</td>\n",
       "      <td>Children|Documentary|Drama</td>\n",
       "    </tr>\n",
       "    <tr>\n",
       "      <th>430</th>\n",
       "      <td>130408</td>\n",
       "      <td>A Rumor Of War (1980)</td>\n",
       "      <td>(no genres listed)</td>\n",
       "    </tr>\n",
       "    <tr>\n",
       "      <th>431</th>\n",
       "      <td>130510</td>\n",
       "      <td>Berserk: The Golden Age Arc 3 - Descent (2013)</td>\n",
       "      <td>Action|Animation|Fantasy</td>\n",
       "    </tr>\n",
       "    <tr>\n",
       "      <th>432</th>\n",
       "      <td>131239</td>\n",
       "      <td>Three Quarter Moon (2011)</td>\n",
       "      <td>Comedy|Drama</td>\n",
       "    </tr>\n",
       "  </tbody>\n",
       "</table>\n",
       "</div>"
      ],
      "text/plain": [
       "     movieId                                           title  \\\n",
       "428   129857                        Bright Days Ahead (2013)   \n",
       "429   130344                           Coast of Death (2013)   \n",
       "430   130408                           A Rumor Of War (1980)   \n",
       "431   130510  Berserk: The Golden Age Arc 3 - Descent (2013)   \n",
       "432   131239                       Three Quarter Moon (2011)   \n",
       "\n",
       "                         genres  \n",
       "428               Drama|Romance  \n",
       "429  Children|Documentary|Drama  \n",
       "430          (no genres listed)  \n",
       "431    Action|Animation|Fantasy  \n",
       "432                Comedy|Drama  "
      ]
     },
     "execution_count": 27,
     "metadata": {},
     "output_type": "execute_result"
    }
   ],
   "source": [
    "movies = pd.read_csv('./dataset/movies_sample.csv')\n",
    "movies.tail()"
   ]
  },
  {
   "cell_type": "code",
   "execution_count": 28,
   "metadata": {
    "colab": {
     "base_uri": "https://localhost:8080/",
     "height": 206
    },
    "executionInfo": {
     "elapsed": 463,
     "status": "ok",
     "timestamp": 1651265273880,
     "user": {
      "displayName": "Marcelo Manzato",
      "userId": "04825752819034907940"
     },
     "user_tz": 180
    },
    "id": "Y3GWuHwSp2Qg",
    "outputId": "732f7d86-6431-4ea3-f4ea-5d74dffc313e"
   },
   "outputs": [
    {
     "data": {
      "text/html": [
       "<div>\n",
       "<style scoped>\n",
       "    .dataframe tbody tr th:only-of-type {\n",
       "        vertical-align: middle;\n",
       "    }\n",
       "\n",
       "    .dataframe tbody tr th {\n",
       "        vertical-align: top;\n",
       "    }\n",
       "\n",
       "    .dataframe thead th {\n",
       "        text-align: right;\n",
       "    }\n",
       "</style>\n",
       "<table border=\"1\" class=\"dataframe\">\n",
       "  <thead>\n",
       "    <tr style=\"text-align: right;\">\n",
       "      <th></th>\n",
       "      <th>userId</th>\n",
       "      <th>movieId</th>\n",
       "      <th>rating</th>\n",
       "      <th>timestamp</th>\n",
       "    </tr>\n",
       "  </thead>\n",
       "  <tbody>\n",
       "    <tr>\n",
       "      <th>0</th>\n",
       "      <td>11</td>\n",
       "      <td>7481</td>\n",
       "      <td>5.0</td>\n",
       "      <td>1230788624</td>\n",
       "    </tr>\n",
       "    <tr>\n",
       "      <th>1</th>\n",
       "      <td>11</td>\n",
       "      <td>1046</td>\n",
       "      <td>4.5</td>\n",
       "      <td>1251144145</td>\n",
       "    </tr>\n",
       "    <tr>\n",
       "      <th>2</th>\n",
       "      <td>11</td>\n",
       "      <td>616</td>\n",
       "      <td>4.0</td>\n",
       "      <td>1230782542</td>\n",
       "    </tr>\n",
       "    <tr>\n",
       "      <th>3</th>\n",
       "      <td>11</td>\n",
       "      <td>3535</td>\n",
       "      <td>2.0</td>\n",
       "      <td>1230784884</td>\n",
       "    </tr>\n",
       "    <tr>\n",
       "      <th>4</th>\n",
       "      <td>11</td>\n",
       "      <td>5669</td>\n",
       "      <td>5.0</td>\n",
       "      <td>1230853788</td>\n",
       "    </tr>\n",
       "  </tbody>\n",
       "</table>\n",
       "</div>"
      ],
      "text/plain": [
       "   userId  movieId  rating   timestamp\n",
       "0      11     7481     5.0  1230788624\n",
       "1      11     1046     4.5  1251144145\n",
       "2      11      616     4.0  1230782542\n",
       "3      11     3535     2.0  1230784884\n",
       "4      11     5669     5.0  1230853788"
      ]
     },
     "execution_count": 28,
     "metadata": {},
     "output_type": "execute_result"
    }
   ],
   "source": [
    "ratings = pd.read_csv('./dataset/ratings_sample.csv')\n",
    "ratings.head()"
   ]
  },
  {
   "cell_type": "code",
   "execution_count": 29,
   "metadata": {
    "colab": {
     "base_uri": "https://localhost:8080/",
     "height": 271
    },
    "executionInfo": {
     "elapsed": 497,
     "status": "ok",
     "timestamp": 1651262423975,
     "user": {
      "displayName": "Marcelo Manzato",
      "userId": "04825752819034907940"
     },
     "user_tz": 180
    },
    "id": "QdmnQ42Ep2Ql",
    "outputId": "6c629ef0-6232-4112-c575-4b38ed769372"
   },
   "outputs": [
    {
     "data": {
      "image/png": "[encoded data removed]",
      "text/plain": [
       "<Figure size 640x480 with 1 Axes>"
      ]
     },
     "metadata": {},
     "output_type": "display_data"
    }
   ],
   "source": [
    "import matplotlib.pyplot as plt\n",
    "ratings.rating.value_counts().plot(kind='bar', color=['r', 'g', 'y', 'c', 'b']);\n",
    "plt.show()"
   ]
  },
  {
   "cell_type": "code",
   "execution_count": 30,
   "metadata": {
    "colab": {
     "base_uri": "https://localhost:8080/",
     "height": 206
    },
    "executionInfo": {
     "elapsed": 1669,
     "status": "ok",
     "timestamp": 1651265283090,
     "user": {
      "displayName": "Marcelo Manzato",
      "userId": "04825752819034907940"
     },
     "user_tz": 180
    },
    "id": "1VK8tadsp2Qp",
    "outputId": "63852d92-1b62-4f8a-a6e8-975c2f724a57"
   },
   "outputs": [
    {
     "data": {
      "text/html": [
       "<div>\n",
       "<style scoped>\n",
       "    .dataframe tbody tr th:only-of-type {\n",
       "        vertical-align: middle;\n",
       "    }\n",
       "\n",
       "    .dataframe tbody tr th {\n",
       "        vertical-align: top;\n",
       "    }\n",
       "\n",
       "    .dataframe thead th {\n",
       "        text-align: right;\n",
       "    }\n",
       "</style>\n",
       "<table border=\"1\" class=\"dataframe\">\n",
       "  <thead>\n",
       "    <tr style=\"text-align: right;\">\n",
       "      <th></th>\n",
       "      <th>userId</th>\n",
       "      <th>movieId</th>\n",
       "      <th>rating</th>\n",
       "    </tr>\n",
       "  </thead>\n",
       "  <tbody>\n",
       "    <tr>\n",
       "      <th>190616</th>\n",
       "      <td>138493</td>\n",
       "      <td>288</td>\n",
       "      <td>5.0</td>\n",
       "    </tr>\n",
       "    <tr>\n",
       "      <th>190617</th>\n",
       "      <td>138493</td>\n",
       "      <td>1748</td>\n",
       "      <td>5.0</td>\n",
       "    </tr>\n",
       "    <tr>\n",
       "      <th>190618</th>\n",
       "      <td>138493</td>\n",
       "      <td>616</td>\n",
       "      <td>4.0</td>\n",
       "    </tr>\n",
       "    <tr>\n",
       "      <th>190619</th>\n",
       "      <td>138493</td>\n",
       "      <td>1597</td>\n",
       "      <td>4.5</td>\n",
       "    </tr>\n",
       "    <tr>\n",
       "      <th>190620</th>\n",
       "      <td>138493</td>\n",
       "      <td>7371</td>\n",
       "      <td>5.0</td>\n",
       "    </tr>\n",
       "  </tbody>\n",
       "</table>\n",
       "</div>"
      ],
      "text/plain": [
       "        userId  movieId  rating\n",
       "190616  138493      288     5.0\n",
       "190617  138493     1748     5.0\n",
       "190618  138493      616     4.0\n",
       "190619  138493     1597     4.5\n",
       "190620  138493     7371     5.0"
      ]
     },
     "execution_count": 30,
     "metadata": {},
     "output_type": "execute_result"
    }
   ],
   "source": [
    "df = ratings[['userId', 'movieId', 'rating']]\n",
    "df.tail()"
   ]
  },
  {
   "cell_type": "code",
   "execution_count": 31,
   "metadata": {
    "colab": {
     "base_uri": "https://localhost:8080/",
     "height": 206
    },
    "executionInfo": {
     "elapsed": 523,
     "status": "ok",
     "timestamp": 1651265294728,
     "user": {
      "displayName": "Marcelo Manzato",
      "userId": "04825752819034907940"
     },
     "user_tz": 180
    },
    "id": "qmfmBkdep2Qs",
    "outputId": "bc56067b-e248-4ee3-e286-9cf831a6ce1c"
   },
   "outputs": [
    {
     "data": {
      "text/html": [
       "<div>\n",
       "<style scoped>\n",
       "    .dataframe tbody tr th:only-of-type {\n",
       "        vertical-align: middle;\n",
       "    }\n",
       "\n",
       "    .dataframe tbody tr th {\n",
       "        vertical-align: top;\n",
       "    }\n",
       "\n",
       "    .dataframe thead th {\n",
       "        text-align: right;\n",
       "    }\n",
       "</style>\n",
       "<table border=\"1\" class=\"dataframe\">\n",
       "  <thead>\n",
       "    <tr style=\"text-align: right;\">\n",
       "      <th></th>\n",
       "      <th>userId</th>\n",
       "      <th>movieId</th>\n",
       "      <th>rating</th>\n",
       "      <th>title</th>\n",
       "    </tr>\n",
       "  </thead>\n",
       "  <tbody>\n",
       "    <tr>\n",
       "      <th>0</th>\n",
       "      <td>11</td>\n",
       "      <td>7481</td>\n",
       "      <td>5.0</td>\n",
       "      <td>Enemy Mine (1985)</td>\n",
       "    </tr>\n",
       "    <tr>\n",
       "      <th>1</th>\n",
       "      <td>11</td>\n",
       "      <td>1046</td>\n",
       "      <td>4.5</td>\n",
       "      <td>Beautiful Thing (1996)</td>\n",
       "    </tr>\n",
       "    <tr>\n",
       "      <th>2</th>\n",
       "      <td>11</td>\n",
       "      <td>616</td>\n",
       "      <td>4.0</td>\n",
       "      <td>Aristocats, The (1970)</td>\n",
       "    </tr>\n",
       "    <tr>\n",
       "      <th>3</th>\n",
       "      <td>11</td>\n",
       "      <td>3535</td>\n",
       "      <td>2.0</td>\n",
       "      <td>American Psycho (2000)</td>\n",
       "    </tr>\n",
       "    <tr>\n",
       "      <th>4</th>\n",
       "      <td>11</td>\n",
       "      <td>5669</td>\n",
       "      <td>5.0</td>\n",
       "      <td>Bowling for Columbine (2002)</td>\n",
       "    </tr>\n",
       "  </tbody>\n",
       "</table>\n",
       "</div>"
      ],
      "text/plain": [
       "   userId  movieId  rating                         title\n",
       "0      11     7481     5.0             Enemy Mine (1985)\n",
       "1      11     1046     4.5        Beautiful Thing (1996)\n",
       "2      11      616     4.0        Aristocats, The (1970)\n",
       "3      11     3535     2.0        American Psycho (2000)\n",
       "4      11     5669     5.0  Bowling for Columbine (2002)"
      ]
     },
     "execution_count": 31,
     "metadata": {},
     "output_type": "execute_result"
    }
   ],
   "source": [
    "df = df.merge(movies[['movieId', 'title']])\n",
    "df.head()"
   ]
  },
  {
   "cell_type": "markdown",
   "metadata": {
    "id": "vkgi6EY8p2Q0"
   },
   "source": [
    "### Números de usuários e número de itens"
   ]
  },
  {
   "cell_type": "code",
   "execution_count": 32,
   "metadata": {
    "colab": {
     "base_uri": "https://localhost:8080/"
    },
    "executionInfo": {
     "elapsed": 582,
     "status": "ok",
     "timestamp": 1651262596720,
     "user": {
      "displayName": "Marcelo Manzato",
      "userId": "04825752819034907940"
     },
     "user_tz": 180
    },
    "id": "Oqm9TqFUp2Q0",
    "outputId": "b79494d4-37e4-43fa-de7e-9bf123c17fec"
   },
   "outputs": [
    {
     "name": "stdout",
     "output_type": "stream",
     "text": [
      "\n",
      "Número de usuários: 11090\n",
      "Número de itens: 417\n",
      "Número de interações: 190621\n",
      "\n"
     ]
    }
   ],
   "source": [
    "print(\n",
    "\"\"\"\n",
    "Número de usuários: {}\n",
    "Número de itens: {}\n",
    "Número de interações: {}\n",
    "\"\"\".format(\n",
    "    df.userId.nunique(),\n",
    "    df.movieId.nunique(),\n",
    "    df.shape[0]\n",
    ")\n",
    ")"
   ]
  },
  {
   "cell_type": "markdown",
   "metadata": {
    "id": "9oUxIUefp2Q4"
   },
   "source": [
    "### Mapeamento em idx"
   ]
  },
  {
   "cell_type": "code",
   "execution_count": 33,
   "metadata": {
    "executionInfo": {
     "elapsed": 307,
     "status": "ok",
     "timestamp": 1651265300657,
     "user": {
      "displayName": "Marcelo Manzato",
      "userId": "04825752819034907940"
     },
     "user_tz": 180
    },
    "id": "_xDUH3kbp2Q4"
   },
   "outputs": [],
   "source": [
    "map_users = {user: idx for idx, user in enumerate(df.userId.unique())}\n",
    "map_items = {item: idx for idx, item in enumerate(df.movieId.unique())}"
   ]
  },
  {
   "cell_type": "code",
   "execution_count": 34,
   "metadata": {
    "colab": {
     "base_uri": "https://localhost:8080/",
     "height": 206
    },
    "executionInfo": {
     "elapsed": 10,
     "status": "ok",
     "timestamp": 1651265302515,
     "user": {
      "displayName": "Marcelo Manzato",
      "userId": "04825752819034907940"
     },
     "user_tz": 180
    },
    "id": "kqkGY2php2Q8",
    "outputId": "864b78bd-cf41-415f-a0aa-7199a9439616"
   },
   "outputs": [
    {
     "data": {
      "text/html": [
       "<div>\n",
       "<style scoped>\n",
       "    .dataframe tbody tr th:only-of-type {\n",
       "        vertical-align: middle;\n",
       "    }\n",
       "\n",
       "    .dataframe tbody tr th {\n",
       "        vertical-align: top;\n",
       "    }\n",
       "\n",
       "    .dataframe thead th {\n",
       "        text-align: right;\n",
       "    }\n",
       "</style>\n",
       "<table border=\"1\" class=\"dataframe\">\n",
       "  <thead>\n",
       "    <tr style=\"text-align: right;\">\n",
       "      <th></th>\n",
       "      <th>userId</th>\n",
       "      <th>movieId</th>\n",
       "      <th>rating</th>\n",
       "      <th>title</th>\n",
       "    </tr>\n",
       "  </thead>\n",
       "  <tbody>\n",
       "    <tr>\n",
       "      <th>0</th>\n",
       "      <td>0</td>\n",
       "      <td>0</td>\n",
       "      <td>5.0</td>\n",
       "      <td>Enemy Mine (1985)</td>\n",
       "    </tr>\n",
       "    <tr>\n",
       "      <th>1</th>\n",
       "      <td>0</td>\n",
       "      <td>1</td>\n",
       "      <td>4.5</td>\n",
       "      <td>Beautiful Thing (1996)</td>\n",
       "    </tr>\n",
       "    <tr>\n",
       "      <th>2</th>\n",
       "      <td>0</td>\n",
       "      <td>2</td>\n",
       "      <td>4.0</td>\n",
       "      <td>Aristocats, The (1970)</td>\n",
       "    </tr>\n",
       "    <tr>\n",
       "      <th>3</th>\n",
       "      <td>0</td>\n",
       "      <td>3</td>\n",
       "      <td>2.0</td>\n",
       "      <td>American Psycho (2000)</td>\n",
       "    </tr>\n",
       "    <tr>\n",
       "      <th>4</th>\n",
       "      <td>0</td>\n",
       "      <td>4</td>\n",
       "      <td>5.0</td>\n",
       "      <td>Bowling for Columbine (2002)</td>\n",
       "    </tr>\n",
       "  </tbody>\n",
       "</table>\n",
       "</div>"
      ],
      "text/plain": [
       "   userId  movieId  rating                         title\n",
       "0       0        0     5.0             Enemy Mine (1985)\n",
       "1       0        1     4.5        Beautiful Thing (1996)\n",
       "2       0        2     4.0        Aristocats, The (1970)\n",
       "3       0        3     2.0        American Psycho (2000)\n",
       "4       0        4     5.0  Bowling for Columbine (2002)"
      ]
     },
     "execution_count": 34,
     "metadata": {},
     "output_type": "execute_result"
    }
   ],
   "source": [
    "df['userId'] = df['userId'].map(map_users)\n",
    "df['movieId'] = df['movieId'].map(map_items)\n",
    "df.head()"
   ]
  },
  {
   "cell_type": "code",
   "execution_count": 35,
   "metadata": {
    "executionInfo": {
     "elapsed": 12498,
     "status": "ok",
     "timestamp": 1651265319355,
     "user": {
      "displayName": "Marcelo Manzato",
      "userId": "04825752819034907940"
     },
     "user_tz": 180
    },
    "id": "StWvDa5Gp2Q_"
   },
   "outputs": [],
   "source": [
    "map_title = {}\n",
    "\n",
    "for _, row in df.iterrows():\n",
    "    map_title[row.movieId] = row.title"
   ]
  },
  {
   "cell_type": "code",
   "execution_count": 36,
   "metadata": {
    "colab": {
     "base_uri": "https://localhost:8080/"
    },
    "executionInfo": {
     "elapsed": 6819,
     "status": "ok",
     "timestamp": 1651262789120,
     "user": {
      "displayName": "Marcelo Manzato",
      "userId": "04825752819034907940"
     },
     "user_tz": 180
    },
    "id": "XLTWg-F9p2RD",
    "outputId": "91b07036-55df-40d1-a532-e341b0d869c1"
   },
   "outputs": [
    {
     "name": "stdout",
     "output_type": "stream",
     "text": [
      "417\n",
      "Send Me No Flowers (1964)\n"
     ]
    }
   ],
   "source": [
    "print(len(map_title))\n",
    "print(map_title[100])"
   ]
  },
  {
   "cell_type": "code",
   "execution_count": 37,
   "metadata": {
    "colab": {
     "base_uri": "https://localhost:8080/",
     "height": 455
    },
    "executionInfo": {
     "elapsed": 642,
     "status": "ok",
     "timestamp": 1651262829829,
     "user": {
      "displayName": "Marcelo Manzato",
      "userId": "04825752819034907940"
     },
     "user_tz": 180
    },
    "id": "35C82h7op2RH",
    "outputId": "3fd426c1-238b-45b9-ebfe-00a5b16d008a"
   },
   "outputs": [
    {
     "data": {
      "text/html": [
       "<div>\n",
       "<style scoped>\n",
       "    .dataframe tbody tr th:only-of-type {\n",
       "        vertical-align: middle;\n",
       "    }\n",
       "\n",
       "    .dataframe tbody tr th {\n",
       "        vertical-align: top;\n",
       "    }\n",
       "\n",
       "    .dataframe thead th {\n",
       "        text-align: right;\n",
       "    }\n",
       "</style>\n",
       "<table border=\"1\" class=\"dataframe\">\n",
       "  <thead>\n",
       "    <tr style=\"text-align: right;\">\n",
       "      <th></th>\n",
       "      <th>movieId</th>\n",
       "      <th>rating</th>\n",
       "      <th>title</th>\n",
       "    </tr>\n",
       "    <tr>\n",
       "      <th>userId</th>\n",
       "      <th></th>\n",
       "      <th></th>\n",
       "      <th></th>\n",
       "    </tr>\n",
       "  </thead>\n",
       "  <tbody>\n",
       "    <tr>\n",
       "      <th>0</th>\n",
       "      <td>13</td>\n",
       "      <td>13</td>\n",
       "      <td>13</td>\n",
       "    </tr>\n",
       "    <tr>\n",
       "      <th>1</th>\n",
       "      <td>14</td>\n",
       "      <td>14</td>\n",
       "      <td>14</td>\n",
       "    </tr>\n",
       "    <tr>\n",
       "      <th>2</th>\n",
       "      <td>15</td>\n",
       "      <td>15</td>\n",
       "      <td>15</td>\n",
       "    </tr>\n",
       "    <tr>\n",
       "      <th>3</th>\n",
       "      <td>15</td>\n",
       "      <td>15</td>\n",
       "      <td>15</td>\n",
       "    </tr>\n",
       "    <tr>\n",
       "      <th>4</th>\n",
       "      <td>11</td>\n",
       "      <td>11</td>\n",
       "      <td>11</td>\n",
       "    </tr>\n",
       "    <tr>\n",
       "      <th>...</th>\n",
       "      <td>...</td>\n",
       "      <td>...</td>\n",
       "      <td>...</td>\n",
       "    </tr>\n",
       "    <tr>\n",
       "      <th>11085</th>\n",
       "      <td>16</td>\n",
       "      <td>16</td>\n",
       "      <td>16</td>\n",
       "    </tr>\n",
       "    <tr>\n",
       "      <th>11086</th>\n",
       "      <td>11</td>\n",
       "      <td>11</td>\n",
       "      <td>11</td>\n",
       "    </tr>\n",
       "    <tr>\n",
       "      <th>11087</th>\n",
       "      <td>13</td>\n",
       "      <td>13</td>\n",
       "      <td>13</td>\n",
       "    </tr>\n",
       "    <tr>\n",
       "      <th>11088</th>\n",
       "      <td>13</td>\n",
       "      <td>13</td>\n",
       "      <td>13</td>\n",
       "    </tr>\n",
       "    <tr>\n",
       "      <th>11089</th>\n",
       "      <td>10</td>\n",
       "      <td>10</td>\n",
       "      <td>10</td>\n",
       "    </tr>\n",
       "  </tbody>\n",
       "</table>\n",
       "<p>11090 rows × 3 columns</p>\n",
       "</div>"
      ],
      "text/plain": [
       "        movieId  rating  title\n",
       "userId                        \n",
       "0            13      13     13\n",
       "1            14      14     14\n",
       "2            15      15     15\n",
       "3            15      15     15\n",
       "4            11      11     11\n",
       "...         ...     ...    ...\n",
       "11085        16      16     16\n",
       "11086        11      11     11\n",
       "11087        13      13     13\n",
       "11088        13      13     13\n",
       "11089        10      10     10\n",
       "\n",
       "[11090 rows x 3 columns]"
      ]
     },
     "execution_count": 37,
     "metadata": {},
     "output_type": "execute_result"
    }
   ],
   "source": [
    "# qtd interações dos usuários\n",
    "df.groupby('userId').count()"
   ]
  },
  {
   "cell_type": "markdown",
   "metadata": {
    "id": "x8Ln0a1vp2RL"
   },
   "source": [
    "### Divisão do dataset"
   ]
  },
  {
   "cell_type": "code",
   "execution_count": 38,
   "metadata": {
    "executionInfo": {
     "elapsed": 878,
     "status": "ok",
     "timestamp": 1651265328100,
     "user": {
      "displayName": "Marcelo Manzato",
      "userId": "04825752819034907940"
     },
     "user_tz": 180
    },
    "id": "9MsDESQ_p2RM"
   },
   "outputs": [],
   "source": [
    "from sklearn.model_selection import train_test_split\n",
    "train, test = train_test_split(df, test_size=.2, random_state=2)\n",
    "train.to_csv('train.txt', index=False, header=False, sep='\\t')\n",
    "test.to_csv('test.txt', index=False, header=False, sep='\\t')"
   ]
  },
  {
   "cell_type": "code",
   "execution_count": 39,
   "metadata": {
    "colab": {
     "base_uri": "https://localhost:8080/"
    },
    "executionInfo": {
     "elapsed": 744,
     "status": "ok",
     "timestamp": 1651262977544,
     "user": {
      "displayName": "Marcelo Manzato",
      "userId": "04825752819034907940"
     },
     "user_tz": 180
    },
    "id": "n6HTzcwsp2RX",
    "outputId": "831acd8f-11dc-4864-ce08-a8a4fa05daa5"
   },
   "outputs": [
    {
     "name": "stdout",
     "output_type": "stream",
     "text": [
      "total 135024\n",
      "-rw-rw-r-- 1 coqzieiro coqzieiro    98940 ago 22 09:50  Aula01_Exercicios.ipynb\n",
      "drwxr-xr-x 2 coqzieiro coqzieiro     4096 mar 17  2022  dataset\n",
      "-rw-rw-r-- 1 coqzieiro coqzieiro 65019041 ago 22 09:53 'ml-20m-compact.tar (1).gz'\n",
      "-rw-rw-r-- 1 coqzieiro coqzieiro 65019041 ago 22 09:48  ml-20m-compact.tar.gz\n",
      "-rw-rw-r-- 1 coqzieiro coqzieiro   647016 ago 22 09:51  out_mp_pred.txt\n",
      "-rw-rw-r-- 1 coqzieiro coqzieiro  1491068 ago 22 09:53  test.txt\n",
      "-rw-rw-r-- 1 coqzieiro coqzieiro  5966209 ago 22 09:53  train.txt\n"
     ]
    }
   ],
   "source": [
    "! ls -l"
   ]
  },
  {
   "cell_type": "code",
   "execution_count": 40,
   "metadata": {
    "colab": {
     "base_uri": "https://localhost:8080/"
    },
    "executionInfo": {
     "elapsed": 689,
     "status": "ok",
     "timestamp": 1651262986486,
     "user": {
      "displayName": "Marcelo Manzato",
      "userId": "04825752819034907940"
     },
     "user_tz": 180
    },
    "id": "RFZhUjCnp2Rb",
    "outputId": "cdcd5ef0-bc8f-436f-9f20-ab7f5269ba45"
   },
   "outputs": [
    {
     "name": "stdout",
     "output_type": "stream",
     "text": [
      "No. items: 405\n",
      "No. users: 11090\n"
     ]
    }
   ],
   "source": [
    "print('No. items: ' + str(train['movieId'].nunique()))\n",
    "print('No. users: ' + str(train['userId'].nunique()))"
   ]
  },
  {
   "cell_type": "markdown",
   "metadata": {
    "id": "VVWZRptBp2Re"
   },
   "source": [
    "### Recomendadores"
   ]
  },
  {
   "cell_type": "markdown",
   "metadata": {
    "id": "ajH3hUALp2Re"
   },
   "source": [
    "## Prever notas"
   ]
  },
  {
   "cell_type": "code",
   "execution_count": 41,
   "metadata": {
    "executionInfo": {
     "elapsed": 56,
     "status": "ok",
     "timestamp": 1651263041227,
     "user": {
      "displayName": "Marcelo Manzato",
      "userId": "04825752819034907940"
     },
     "user_tz": 180
    },
    "id": "foa1ePfOp2Rf"
   },
   "outputs": [],
   "source": [
    "from caserec.recommenders.rating_prediction.most_popular import MostPopular"
   ]
  },
  {
   "cell_type": "code",
   "execution_count": 42,
   "metadata": {
    "colab": {
     "base_uri": "https://localhost:8080/"
    },
    "executionInfo": {
     "elapsed": 74143,
     "status": "ok",
     "timestamp": 1651263246545,
     "user": {
      "displayName": "Marcelo Manzato",
      "userId": "04825752819034907940"
     },
     "user_tz": 180
    },
    "id": "2ud84_kMp2Rh",
    "outputId": "17aaee62-e965-4a33-875f-51aa9432a3eb"
   },
   "outputs": [
    {
     "name": "stdout",
     "output_type": "stream",
     "text": [
      "[Case Recommender: Rating Prediction > Most Popular]\n",
      "\n",
      "train data:: 11090 users and 405 items (152496 interactions) | sparsity:: 96.60%\n",
      "test data:: 10571 users and 331 items (38125 interactions) | sparsity:: 98.91%\n",
      "\n",
      "prediction_time:: 73.864424 sec\n",
      "\n",
      "\n",
      "Eval:: MAE: 0.701356 RMSE: 0.908405 \n"
     ]
    }
   ],
   "source": [
    "MostPopular('train.txt', 'test.txt', 'out_mp_pred.txt').compute()"
   ]
  },
  {
   "cell_type": "code",
   "execution_count": 43,
   "metadata": {
    "colab": {
     "base_uri": "https://localhost:8080/",
     "height": 206
    },
    "executionInfo": {
     "elapsed": 2096,
     "status": "ok",
     "timestamp": 1651263311989,
     "user": {
      "displayName": "Marcelo Manzato",
      "userId": "04825752819034907940"
     },
     "user_tz": 180
    },
    "id": "wESMpB0kp2Rk",
    "outputId": "847827ef-03a9-45dc-cc48-d5ad72bc3e79"
   },
   "outputs": [
    {
     "data": {
      "text/html": [
       "<div>\n",
       "<style scoped>\n",
       "    .dataframe tbody tr th:only-of-type {\n",
       "        vertical-align: middle;\n",
       "    }\n",
       "\n",
       "    .dataframe tbody tr th {\n",
       "        vertical-align: top;\n",
       "    }\n",
       "\n",
       "    .dataframe thead th {\n",
       "        text-align: right;\n",
       "    }\n",
       "</style>\n",
       "<table border=\"1\" class=\"dataframe\">\n",
       "  <thead>\n",
       "    <tr style=\"text-align: right;\">\n",
       "      <th></th>\n",
       "      <th>userId</th>\n",
       "      <th>movieId</th>\n",
       "      <th>pred</th>\n",
       "    </tr>\n",
       "  </thead>\n",
       "  <tbody>\n",
       "    <tr>\n",
       "      <th>0</th>\n",
       "      <td>0</td>\n",
       "      <td>5</td>\n",
       "      <td>3.340482</td>\n",
       "    </tr>\n",
       "    <tr>\n",
       "      <th>1</th>\n",
       "      <td>0</td>\n",
       "      <td>0</td>\n",
       "      <td>3.462625</td>\n",
       "    </tr>\n",
       "    <tr>\n",
       "      <th>2</th>\n",
       "      <td>1</td>\n",
       "      <td>13</td>\n",
       "      <td>3.501614</td>\n",
       "    </tr>\n",
       "    <tr>\n",
       "      <th>3</th>\n",
       "      <td>1</td>\n",
       "      <td>16</td>\n",
       "      <td>3.075567</td>\n",
       "    </tr>\n",
       "    <tr>\n",
       "      <th>4</th>\n",
       "      <td>1</td>\n",
       "      <td>14</td>\n",
       "      <td>3.654597</td>\n",
       "    </tr>\n",
       "    <tr>\n",
       "      <th>5</th>\n",
       "      <td>1</td>\n",
       "      <td>19</td>\n",
       "      <td>4.070841</td>\n",
       "    </tr>\n",
       "    <tr>\n",
       "      <th>6</th>\n",
       "      <td>1</td>\n",
       "      <td>24</td>\n",
       "      <td>2.841837</td>\n",
       "    </tr>\n",
       "    <tr>\n",
       "      <th>7</th>\n",
       "      <td>1</td>\n",
       "      <td>20</td>\n",
       "      <td>3.174392</td>\n",
       "    </tr>\n",
       "    <tr>\n",
       "      <th>8</th>\n",
       "      <td>2</td>\n",
       "      <td>21</td>\n",
       "      <td>3.209831</td>\n",
       "    </tr>\n",
       "    <tr>\n",
       "      <th>9</th>\n",
       "      <td>3</td>\n",
       "      <td>33</td>\n",
       "      <td>4.192866</td>\n",
       "    </tr>\n",
       "  </tbody>\n",
       "</table>\n",
       "</div>"
      ],
      "text/plain": [
       "   userId  movieId      pred\n",
       "0       0        5  3.340482\n",
       "1       0        0  3.462625\n",
       "2       1       13  3.501614\n",
       "3       1       16  3.075567\n",
       "4       1       14  3.654597\n",
       "5       1       19  4.070841\n",
       "6       1       24  2.841837\n",
       "7       1       20  3.174392\n",
       "8       2       21  3.209831\n",
       "9       3       33  4.192866"
      ]
     },
     "execution_count": 43,
     "metadata": {},
     "output_type": "execute_result"
    }
   ],
   "source": [
    "df_pred = pd.read_csv('out_mp_pred.txt', sep='\\t', names=['userId', 'movieId', 'pred'])\n",
    "df_pred.head(10)"
   ]
  },
  {
   "cell_type": "code",
   "execution_count": 44,
   "metadata": {
    "colab": {
     "base_uri": "https://localhost:8080/",
     "height": 112
    },
    "executionInfo": {
     "elapsed": 461,
     "status": "ok",
     "timestamp": 1651263359987,
     "user": {
      "displayName": "Marcelo Manzato",
      "userId": "04825752819034907940"
     },
     "user_tz": 180
    },
    "id": "aGUl8yVyp2Rn",
    "outputId": "9c0ba999-c3ee-403d-e956-515619cc7f5b"
   },
   "outputs": [
    {
     "data": {
      "text/html": [
       "<div>\n",
       "<style scoped>\n",
       "    .dataframe tbody tr th:only-of-type {\n",
       "        vertical-align: middle;\n",
       "    }\n",
       "\n",
       "    .dataframe tbody tr th {\n",
       "        vertical-align: top;\n",
       "    }\n",
       "\n",
       "    .dataframe thead th {\n",
       "        text-align: right;\n",
       "    }\n",
       "</style>\n",
       "<table border=\"1\" class=\"dataframe\">\n",
       "  <thead>\n",
       "    <tr style=\"text-align: right;\">\n",
       "      <th></th>\n",
       "      <th>userId</th>\n",
       "      <th>movieId</th>\n",
       "      <th>rating</th>\n",
       "      <th>title</th>\n",
       "    </tr>\n",
       "  </thead>\n",
       "  <tbody>\n",
       "    <tr>\n",
       "      <th>13</th>\n",
       "      <td>1</td>\n",
       "      <td>13</td>\n",
       "      <td>5.0</td>\n",
       "      <td>Sliding Doors (1998)</td>\n",
       "    </tr>\n",
       "    <tr>\n",
       "      <th>16</th>\n",
       "      <td>1</td>\n",
       "      <td>16</td>\n",
       "      <td>4.0</td>\n",
       "      <td>Rush Hour 2 (2001)</td>\n",
       "    </tr>\n",
       "    <tr>\n",
       "      <th>14</th>\n",
       "      <td>1</td>\n",
       "      <td>14</td>\n",
       "      <td>4.0</td>\n",
       "      <td>Go (1999)</td>\n",
       "    </tr>\n",
       "    <tr>\n",
       "      <th>21</th>\n",
       "      <td>1</td>\n",
       "      <td>19</td>\n",
       "      <td>5.0</td>\n",
       "      <td>Reservoir Dogs (1992)</td>\n",
       "    </tr>\n",
       "    <tr>\n",
       "      <th>26</th>\n",
       "      <td>1</td>\n",
       "      <td>24</td>\n",
       "      <td>3.0</td>\n",
       "      <td>Deep End of the Ocean, The (1999)</td>\n",
       "    </tr>\n",
       "    <tr>\n",
       "      <th>22</th>\n",
       "      <td>1</td>\n",
       "      <td>20</td>\n",
       "      <td>3.0</td>\n",
       "      <td>While You Were Sleeping (1995)</td>\n",
       "    </tr>\n",
       "  </tbody>\n",
       "</table>\n",
       "</div>"
      ],
      "text/plain": [
       "    userId  movieId  rating                              title\n",
       "13       1       13     5.0               Sliding Doors (1998)\n",
       "16       1       16     4.0                 Rush Hour 2 (2001)\n",
       "14       1       14     4.0                          Go (1999)\n",
       "21       1       19     5.0              Reservoir Dogs (1992)\n",
       "26       1       24     3.0  Deep End of the Ocean, The (1999)\n",
       "22       1       20     3.0     While You Were Sleeping (1995)"
      ]
     },
     "execution_count": 44,
     "metadata": {},
     "output_type": "execute_result"
    }
   ],
   "source": [
    "test[test.userId == 1]"
   ]
  },
  {
   "cell_type": "code",
   "execution_count": 45,
   "metadata": {
    "executionInfo": {
     "elapsed": 665,
     "status": "ok",
     "timestamp": 1651263424777,
     "user": {
      "displayName": "Marcelo Manzato",
      "userId": "04825752819034907940"
     },
     "user_tz": 180
    },
    "id": "x-VuIIi3p2Rp"
   },
   "outputs": [],
   "source": [
    "df_pred = df_pred.merge(test)"
   ]
  },
  {
   "cell_type": "code",
   "execution_count": 46,
   "metadata": {
    "colab": {
     "base_uri": "https://localhost:8080/",
     "height": 289
    },
    "executionInfo": {
     "elapsed": 922,
     "status": "ok",
     "timestamp": 1651263432823,
     "user": {
      "displayName": "Marcelo Manzato",
      "userId": "04825752819034907940"
     },
     "user_tz": 180
    },
    "id": "PNYXk7pfp2Rs",
    "outputId": "81838e01-e340-47fe-c513-00eefb0fd778"
   },
   "outputs": [
    {
     "data": {
      "image/png": "[encoded data removed]",
      "text/plain": [
       "<Figure size 640x480 with 1 Axes>"
      ]
     },
     "metadata": {},
     "output_type": "display_data"
    }
   ],
   "source": [
    "df_pred.rating.value_counts().plot(kind='bar')\n",
    "plt.show()"
   ]
  },
  {
   "cell_type": "code",
   "execution_count": 47,
   "metadata": {
    "colab": {
     "base_uri": "https://localhost:8080/",
     "height": 271
    },
    "executionInfo": {
     "elapsed": 664,
     "status": "ok",
     "timestamp": 1651263494984,
     "user": {
      "displayName": "Marcelo Manzato",
      "userId": "04825752819034907940"
     },
     "user_tz": 180
    },
    "id": "WCQJA5q8p2Rv",
    "outputId": "d645310b-f083-441a-a09b-9e74de1df795"
   },
   "outputs": [
    {
     "data": {
      "image/png": "[encoded data removed]",
      "text/plain": [
       "<Figure size 640x480 with 1 Axes>"
      ]
     },
     "metadata": {},
     "output_type": "display_data"
    }
   ],
   "source": [
    "df_pred['pred'] = round(df_pred['pred']*2)/2\n",
    "df_pred.pred.value_counts().plot(kind='bar');\n",
    "plt.show()"
   ]
  },
  {
   "cell_type": "markdown",
   "metadata": {
    "id": "PwB7U14up2Ry"
   },
   "source": [
    "### Top N"
   ]
  },
  {
   "cell_type": "code",
   "execution_count": 48,
   "metadata": {
    "executionInfo": {
     "elapsed": 285,
     "status": "ok",
     "timestamp": 1651265412256,
     "user": {
      "displayName": "Marcelo Manzato",
      "userId": "04825752819034907940"
     },
     "user_tz": 180
    },
    "id": "uOuJBF2lp2Rz"
   },
   "outputs": [],
   "source": [
    "from caserec.recommenders.item_recommendation.most_popular import MostPopular as MPR"
   ]
  },
  {
   "cell_type": "code",
   "execution_count": 49,
   "metadata": {
    "colab": {
     "base_uri": "https://localhost:8080/"
    },
    "executionInfo": {
     "elapsed": 7097,
     "status": "ok",
     "timestamp": 1651265426652,
     "user": {
      "displayName": "Marcelo Manzato",
      "userId": "04825752819034907940"
     },
     "user_tz": 180
    },
    "id": "3-ir7MKYp2R4",
    "outputId": "66ee974f-4661-4728-ff8f-4d04534101e3"
   },
   "outputs": [
    {
     "name": "stdout",
     "output_type": "stream",
     "text": [
      "[Case Recommender: Item Recommendation > Most Popular]\n",
      "\n",
      "train data:: 11090 users and 405 items (152496 interactions) | sparsity:: 96.60%\n",
      "test data:: 10571 users and 331 items (38125 interactions) | sparsity:: 98.91%\n",
      "\n",
      "prediction_time:: 1.399469 sec\n",
      "\n",
      "\n",
      "Eval:: PREC@1: 0.38407 PREC@3: 0.251159 PREC@5: 0.210936 PREC@10: 0.164895 RECALL@1: 0.124528 RECALL@3: 0.229538 RECALL@5: 0.314706 RECALL@10: 0.481962 MAP@1: 0.38407 MAP@3: 0.454719 MAP@5: 0.46042 MAP@10: 0.437819 NDCG@1: 0.38407 NDCG@3: 0.523129 NDCG@5: 0.547547 NDCG@10: 0.554529 \n"
     ]
    }
   ],
   "source": [
    "MPR('train.txt', 'test.txt', 'out_mp_pred_binary.txt', as_binary=True).compute()"
   ]
  },
  {
   "cell_type": "code",
   "execution_count": 50,
   "metadata": {},
   "outputs": [
    {
     "data": {
      "text/html": [
       "<div>\n",
       "<style scoped>\n",
       "    .dataframe tbody tr th:only-of-type {\n",
       "        vertical-align: middle;\n",
       "    }\n",
       "\n",
       "    .dataframe tbody tr th {\n",
       "        vertical-align: top;\n",
       "    }\n",
       "\n",
       "    .dataframe thead th {\n",
       "        text-align: right;\n",
       "    }\n",
       "</style>\n",
       "<table border=\"1\" class=\"dataframe\">\n",
       "  <thead>\n",
       "    <tr style=\"text-align: right;\">\n",
       "      <th></th>\n",
       "      <th>userId</th>\n",
       "      <th>movieId</th>\n",
       "      <th>score</th>\n",
       "      <th>title</th>\n",
       "    </tr>\n",
       "  </thead>\n",
       "  <tbody>\n",
       "    <tr>\n",
       "      <th>0</th>\n",
       "      <td>0</td>\n",
       "      <td>19</td>\n",
       "      <td>6444.0</td>\n",
       "      <td>Reservoir Dogs (1992)</td>\n",
       "    </tr>\n",
       "    <tr>\n",
       "      <th>1</th>\n",
       "      <td>0</td>\n",
       "      <td>22</td>\n",
       "      <td>4535.0</td>\n",
       "      <td>Natural Born Killers (1994)</td>\n",
       "    </tr>\n",
       "    <tr>\n",
       "      <th>2</th>\n",
       "      <td>0</td>\n",
       "      <td>17</td>\n",
       "      <td>4484.0</td>\n",
       "      <td>Chasing Amy (1997)</td>\n",
       "    </tr>\n",
       "    <tr>\n",
       "      <th>3</th>\n",
       "      <td>0</td>\n",
       "      <td>18</td>\n",
       "      <td>4356.0</td>\n",
       "      <td>Life Is Beautiful (La Vita è bella) (1997)</td>\n",
       "    </tr>\n",
       "    <tr>\n",
       "      <th>4</th>\n",
       "      <td>0</td>\n",
       "      <td>33</td>\n",
       "      <td>3855.0</td>\n",
       "      <td>North by Northwest (1959)</td>\n",
       "    </tr>\n",
       "    <tr>\n",
       "      <th>5</th>\n",
       "      <td>0</td>\n",
       "      <td>5</td>\n",
       "      <td>3567.0</td>\n",
       "      <td>I, Robot (2004)</td>\n",
       "    </tr>\n",
       "    <tr>\n",
       "      <th>6</th>\n",
       "      <td>0</td>\n",
       "      <td>21</td>\n",
       "      <td>3560.0</td>\n",
       "      <td>Conspiracy Theory (1997)</td>\n",
       "    </tr>\n",
       "    <tr>\n",
       "      <th>7</th>\n",
       "      <td>0</td>\n",
       "      <td>20</td>\n",
       "      <td>3495.0</td>\n",
       "      <td>While You Were Sleeping (1995)</td>\n",
       "    </tr>\n",
       "    <tr>\n",
       "      <th>8</th>\n",
       "      <td>0</td>\n",
       "      <td>23</td>\n",
       "      <td>3482.0</td>\n",
       "      <td>Crimson Tide (1995)</td>\n",
       "    </tr>\n",
       "    <tr>\n",
       "      <th>9</th>\n",
       "      <td>0</td>\n",
       "      <td>28</td>\n",
       "      <td>3392.0</td>\n",
       "      <td>My Best Friend's Wedding (1997)</td>\n",
       "    </tr>\n",
       "    <tr>\n",
       "      <th>10</th>\n",
       "      <td>1</td>\n",
       "      <td>19</td>\n",
       "      <td>6444.0</td>\n",
       "      <td>Reservoir Dogs (1992)</td>\n",
       "    </tr>\n",
       "    <tr>\n",
       "      <th>11</th>\n",
       "      <td>1</td>\n",
       "      <td>4</td>\n",
       "      <td>4088.0</td>\n",
       "      <td>Bowling for Columbine (2002)</td>\n",
       "    </tr>\n",
       "    <tr>\n",
       "      <th>12</th>\n",
       "      <td>1</td>\n",
       "      <td>10</td>\n",
       "      <td>4035.0</td>\n",
       "      <td>Dark City (1998)</td>\n",
       "    </tr>\n",
       "    <tr>\n",
       "      <th>13</th>\n",
       "      <td>1</td>\n",
       "      <td>33</td>\n",
       "      <td>3855.0</td>\n",
       "      <td>North by Northwest (1959)</td>\n",
       "    </tr>\n",
       "    <tr>\n",
       "      <th>14</th>\n",
       "      <td>1</td>\n",
       "      <td>8</td>\n",
       "      <td>3599.0</td>\n",
       "      <td>Karate Kid, The (1984)</td>\n",
       "    </tr>\n",
       "  </tbody>\n",
       "</table>\n",
       "</div>"
      ],
      "text/plain": [
       "    userId  movieId   score                                       title\n",
       "0        0       19  6444.0                       Reservoir Dogs (1992)\n",
       "1        0       22  4535.0                 Natural Born Killers (1994)\n",
       "2        0       17  4484.0                          Chasing Amy (1997)\n",
       "3        0       18  4356.0  Life Is Beautiful (La Vita è bella) (1997)\n",
       "4        0       33  3855.0                   North by Northwest (1959)\n",
       "5        0        5  3567.0                             I, Robot (2004)\n",
       "6        0       21  3560.0                    Conspiracy Theory (1997)\n",
       "7        0       20  3495.0              While You Were Sleeping (1995)\n",
       "8        0       23  3482.0                         Crimson Tide (1995)\n",
       "9        0       28  3392.0             My Best Friend's Wedding (1997)\n",
       "10       1       19  6444.0                       Reservoir Dogs (1992)\n",
       "11       1        4  4088.0                Bowling for Columbine (2002)\n",
       "12       1       10  4035.0                            Dark City (1998)\n",
       "13       1       33  3855.0                   North by Northwest (1959)\n",
       "14       1        8  3599.0                      Karate Kid, The (1984)"
      ]
     },
     "execution_count": 50,
     "metadata": {},
     "output_type": "execute_result"
    }
   ],
   "source": [
    "ranking = pd.read_csv('out_mp_pred_binary.txt', sep='\\t', names=['userId', 'movieId', 'score'])\n",
    "ranking['title'] = ranking.movieId.map(map_title)\n",
    "ranking.head(15)"
   ]
  },
  {
   "cell_type": "markdown",
   "metadata": {},
   "source": [
    "### Item KNN"
   ]
  },
  {
   "cell_type": "code",
   "execution_count": 51,
   "metadata": {},
   "outputs": [
    {
     "name": "stdout",
     "output_type": "stream",
     "text": [
      "[Case Recommender: Rating Prediction > ItemKNN Algorithm]\n",
      "\n",
      "train data:: 11090 users and 405 items (152496 interactions) | sparsity:: 96.60%\n",
      "test data:: 10571 users and 331 items (38125 interactions) | sparsity:: 98.91%\n",
      "\n",
      "training_time:: 4.901317 sec\n",
      "prediction_time:: 2.000164 sec\n",
      "Eval:: MAE: 0.663504 RMSE: 0.872175 \n"
     ]
    }
   ],
   "source": [
    "from caserec.recommenders.rating_prediction.itemknn import ItemKNN\n",
    "\n",
    "ItemKNN('train.txt', 'test.txt', 'rp_iknn.txt', as_similar_first=True).compute()"
   ]
  },
  {
   "cell_type": "markdown",
   "metadata": {},
   "source": [
    "**Exercício 01:**\n",
    "\n",
    "a) Encontrar o id do usuário que avaliou mais filmes na base. Informe o id externo (da base dados) e o interno (usado pelo recomendador)"
   ]
  },
  {
   "cell_type": "code",
   "execution_count": 70,
   "metadata": {},
   "outputs": [
    {
     "name": "stdout",
     "output_type": "stream",
     "text": [
      "Exemplo após preservação:\n",
      "   userId_ext  userId  movieId_ext  movieId                         title  \\\n",
      "0           0       0            0        0             Enemy Mine (1985)   \n",
      "1           0       0            1        1        Beautiful Thing (1996)   \n",
      "2           0       0            2        2        Aristocats, The (1970)   \n",
      "3           0       0            3        3        American Psycho (2000)   \n",
      "4           0       0            4        4  Bowling for Columbine (2002)   \n",
      "\n",
      "   rating  \n",
      "0     5.0  \n",
      "1     4.5  \n",
      "2     4.0  \n",
      "3     2.0  \n",
      "4     5.0  \n"
     ]
    }
   ],
   "source": [
    "df = df.copy()\n",
    "if 'userId_ext' not in df.columns:\n",
    "    df['userId_ext'] = df['userId']\n",
    "    df['movieId_ext'] = df['movieId']\n",
    "\n",
    "# Agora faça/repita o mapeamento:\n",
    "map_users = {user: idx for idx, user in enumerate(df['userId_ext'].unique())}\n",
    "map_items = {item: idx for idx, item in enumerate(df['movieId_ext'].unique())}\n",
    "df['userId'] = df['userId_ext'].map(map_users)      # interno\n",
    "df['movieId'] = df['movieId_ext'].map(map_items)    # interno\n",
    "\n",
    "print(\"Exemplo após preservação:\")\n",
    "print(df[['userId_ext','userId','movieId_ext','movieId','title','rating']].head())"
   ]
  },
  {
   "cell_type": "code",
   "execution_count": 71,
   "metadata": {},
   "outputs": [
    {
     "name": "stdout",
     "output_type": "stream",
     "text": [
      "ID externo: 9518 | ID interno: 9518 | qtd avaliações: 163\n"
     ]
    }
   ],
   "source": [
    "user_counts = df.groupby(['userId_ext','userId'])['movieId'].count().reset_index(name='qtd')\n",
    "top_user = user_counts.sort_values('qtd', ascending=False).iloc[0]\n",
    "print(f\"ID externo: {int(top_user.userId_ext)} | ID interno: {int(top_user.userId)} | qtd avaliações: {int(top_user.qtd)}\")"
   ]
  },
  {
   "cell_type": "markdown",
   "metadata": {},
   "source": [
    "Montamos movie_stats para depois anexar média de nota e número de avaliações às recomendações.\n",
    "\n",
    "- A matriz UI é o insumo para calcular a similaridade de cosseno entre colunas (itens).\n",
    "\n",
    "- Em UI_centered subtraímos a média da linha (usuário) para reduzir viés — é exatamente a ideia mostrada na Aula 01."
   ]
  },
  {
   "cell_type": "markdown",
   "metadata": {},
   "source": [
    "b) Encontrar os 5 primeiros usuários que têm maior propensão a dar notas baixas aos filmes (use a média de ratings para isso)."
   ]
  },
  {
   "cell_type": "code",
   "execution_count": 72,
   "metadata": {},
   "outputs": [
    {
     "name": "stdout",
     "output_type": "stream",
     "text": [
      "       userId_ext  userId  avg_rating\n",
      "9160         9160    9160    0.735294\n",
      "172           172     172    0.961538\n",
      "6728         6728    6728    1.115385\n",
      "8266         8266    8266    1.205882\n",
      "10835       10835   10835    1.307692\n"
     ]
    }
   ],
   "source": [
    "user_means = (\n",
    "    df.groupby(['userId_ext','userId'])['rating']\n",
    "      .mean()\n",
    "      .reset_index(name='avg_rating')\n",
    "      .sort_values(['avg_rating','userId_ext'], ascending=[True, True])\n",
    "      .head(5)\n",
    ")\n",
    "print(user_means)\n"
   ]
  },
  {
   "cell_type": "markdown",
   "metadata": {},
   "source": [
    "Definimos topk_similares_item. Ele calcula a similaridade de cosseno entre filmes, filtra por mínimo de usuários em comum (min_overlap), junta estatísticas e ordena os resultados. No final imprimimos só a confirmação."
   ]
  },
  {
   "cell_type": "markdown",
   "metadata": {},
   "source": [
    "c) Encontrar os 5 filmes pior avaliados pelos usuários."
   ]
  },
  {
   "cell_type": "code",
   "execution_count": 73,
   "metadata": {},
   "outputs": [
    {
     "name": "stdout",
     "output_type": "stream",
     "text": [
      "   movieId_ext                                           title  avg_rating  \\\n",
      "0          261                                      DNA (1997)    1.576923   \n",
      "1           92                 Children of the Corn III (1994)    1.622449   \n",
      "2           95  Dumb and Dumberer: When Harry Met Lloyd (2003)    1.660670   \n",
      "3          187                             Theodore Rex (1995)    1.681159   \n",
      "4          145                     I Know Who Killed Me (2007)    1.716535   \n",
      "\n",
      "     n  \n",
      "0   13  \n",
      "1  245  \n",
      "2  806  \n",
      "3   69  \n",
      "4  127  \n"
     ]
    }
   ],
   "source": [
    "movie_stats = (\n",
    "    df.groupby(['movieId','movieId_ext','title'])\n",
    "      .agg(avg_rating=('rating','mean'), n=('rating','count'))\n",
    "      .reset_index()\n",
    ")\n",
    "\n",
    "min_n = 5  # ajuste se quiser exigir mais evidência\n",
    "worst5 = (\n",
    "    movie_stats[movie_stats['n'] >= min_n]\n",
    "    .sort_values(['avg_rating','n','movieId_ext'], ascending=[True, False, True])\n",
    "    .head(5)\n",
    "    .reset_index(drop=True)\n",
    ")\n",
    "print(worst5[['movieId_ext','title','avg_rating','n']])"
   ]
  },
  {
   "cell_type": "markdown",
   "metadata": {},
   "source": [
    "Escolhemos como alvo o filme mais avaliado (melhor base de comparação), rodamos a função e imprimimos o Top-10 vizinhos com suas métricas."
   ]
  },
  {
   "cell_type": "markdown",
   "metadata": {},
   "source": [
    "**Exercício 02:** Na aula vimos uma abordagem de recomendação não personalizada que utiliza a quantidade de interações dos itens para recomendar filmes mais populares aos usuários. Quando há feedback explícito, entretanto, a mesma abordagem \"Most Popular\" pode fazer uso da média das notas disponíveis, ou seja, recomendam-se os N filmes mais bem avaliados a cada usuário. Desse modo, calcule a recomendação de 5 filmes para um usuário qualquer da base considerando essa estratégia não personalizada. Utilize a base toda como conjunto de treinamento."
   ]
  },
  {
   "cell_type": "code",
   "execution_count": 75,
   "metadata": {},
   "outputs": [
    {
     "name": "stdout",
     "output_type": "stream",
     "text": [
      "   movieId                                              title  avg_rating  \\\n",
      "0      367                            Everybody Street (2013)    4.500000   \n",
      "1       33                          North by Northwest (1959)    4.199626   \n",
      "2       12  Star Wars: Episode V - The Empire Strikes Back...    4.178017   \n",
      "3      268                                    Napoléon (1927)    4.107143   \n",
      "4      167                  Samouraï, Le (Godson, The) (1967)    4.066667   \n",
      "\n",
      "      n  \n",
      "0     1  \n",
      "1  4809  \n",
      "2  9530  \n",
      "3    14  \n",
      "4   375  \n",
      "Usuário interno de exemplo: 0\n",
      "1. [367] Everybody Street (2013) — média 4.50 (n=1)\n",
      "2. [33] North by Northwest (1959) — média 4.20 (n=4809)\n",
      "3. [12] Star Wars: Episode V - The Empire Strikes Back (1980) — média 4.18 (n=9530)\n",
      "4. [268] Napoléon (1927) — média 4.11 (n=14)\n",
      "5. [167] Samouraï, Le (Godson, The) (1967) — média 4.07 (n=375)\n"
     ]
    }
   ],
   "source": [
    "movie_stats_full = (\n",
    "    df.groupby(['movieId','title'])\n",
    "      .agg(avg_rating=('rating','mean'), n=('rating','count'))\n",
    "      .reset_index()\n",
    ")\n",
    "top5_global = (\n",
    "    movie_stats_full\n",
    "    .sort_values(['avg_rating','n','movieId'], ascending=[False, False, True])\n",
    "    .head(5)\n",
    "    .reset_index(drop=True)\n",
    ")\n",
    "print(top5_global[['movieId','title','avg_rating','n']])\n",
    "\n",
    "any_user = int(df['userId'].iloc[0])\n",
    "print(f\"Usuário interno de exemplo: {any_user}\")\n",
    "for i, row in top5_global.iterrows():\n",
    "    print(f\"{i+1}. [{row['movieId']}] {row['title']} — média {row['avg_rating']:.2f} (n={row['n']})\")"
   ]
  },
  {
   "cell_type": "markdown",
   "metadata": {},
   "source": [
    "Esse Top-5 é o mesmo para qualquer usuário, é uma recomendação não-personalizada baseada na qualidade média."
   ]
  },
  {
   "cell_type": "code",
   "execution_count": 76,
   "metadata": {},
   "outputs": [
    {
     "name": "stdout",
     "output_type": "stream",
     "text": [
      "Usuário interno de exemplo: 0\n",
      "1. [367] Everybody Street (2013) — média 4.50 (n=1)\n",
      "2. [33] North by Northwest (1959) — média 4.20 (n=4809)\n",
      "3. [12] Star Wars: Episode V - The Empire Strikes Back (1980) — média 4.18 (n=9530)\n",
      "4. [268] Napoléon (1927) — média 4.11 (n=14)\n",
      "5. [167] Samouraï, Le (Godson, The) (1967) — média 4.07 (n=375)\n"
     ]
    }
   ],
   "source": [
    "# escolhemos o primeiro user interno do df apenas para exibir a mensagem\n",
    "any_user = int(df['userId'].iloc[0])\n",
    "print(f\"Usuário interno de exemplo: {any_user}\")\n",
    "\n",
    "for i, row in top5_global.iterrows():\n",
    "    print(f\"{i+1}. [{row['movieId']}] {row['title']} — média {row['avg_rating']:.2f} (n={row['n']})\")"
   ]
  },
  {
   "cell_type": "markdown",
   "metadata": {},
   "source": [
    "A saída mostra o Top-5 global junto com a média e o número de avaliações, é exatamente a estratégia “Most Popular (por nota)”."
   ]
  },
  {
   "cell_type": "markdown",
   "metadata": {},
   "source": [
    "**Exercício 03:** Com base no código disponível no notebook \"Aula01_Exemplos.ipynb\", implemente uma função que retorna os k filmes mais similares a um outro qualquer passado como parâmetro. "
   ]
  },
  {
   "cell_type": "code",
   "execution_count": 77,
   "metadata": {},
   "outputs": [
    {
     "name": "stdout",
     "output_type": "stream",
     "text": [
      "Dimensões: usuários=11090, filmes=417\n",
      "movieId         0         1         2         3         4\n",
      "userId                                                   \n",
      "0        0.615385  0.115385 -0.384615 -2.384615  0.615385\n",
      "1             NaN       NaN       NaN  0.071429       NaN\n",
      "2             NaN       NaN       NaN       NaN       NaN\n"
     ]
    }
   ],
   "source": [
    "UI = df.pivot_table(index='userId', columns='movieId', values='rating', aggfunc='mean')\n",
    "UI_centered = UI.sub(UI.mean(axis=1), axis=0)\n",
    "print(f\"Dimensões: usuários={UI.shape[0]}, filmes={UI.shape[1]}\")\n",
    "print(UI_centered.iloc[:3, :5])\n"
   ]
  },
  {
   "cell_type": "markdown",
   "metadata": {},
   "source": [
    "Criamos UI e UI_centered como na Aula 01. A centralização ajuda o cosseno a refletir padrões de preferência (acima/abaixo da média do usuário)."
   ]
  },
  {
   "cell_type": "code",
   "execution_count": 78,
   "metadata": {},
   "outputs": [],
   "source": [
    "from sklearn.metrics.pairwise import cosine_similarity\n",
    "\n",
    "def topk_similares_item(\n",
    "    movie_id_int,\n",
    "    k=10,\n",
    "    min_overlap=3,\n",
    "    centered_matrix=UI_centered,\n",
    "    raw_matrix=UI,\n",
    "    stats=movie_stats_full  # pode ser movie_stats, são equivalentes aqui\n",
    "):\n",
    "    if movie_id_int not in centered_matrix.columns:\n",
    "        raise ValueError(\"Filme-alvo não está na matriz.\")\n",
    "\n",
    "    target = centered_matrix[[movie_id_int]].fillna(0)\n",
    "    sims = cosine_similarity(centered_matrix.fillna(0).T, target.T).ravel()\n",
    "    sim_df = pd.DataFrame({'movieId': centered_matrix.columns, 'sim': sims})\n",
    "    sim_df = sim_df[sim_df['movieId'] != movie_id_int]\n",
    "\n",
    "    overlap = (\n",
    "        raw_matrix.notna().astype(int)\n",
    "        .T.dot(raw_matrix[movie_id_int].notna().astype(int))\n",
    "        .rename('overlap').reset_index().rename(columns={'index':'movieId'})\n",
    "    )\n",
    "    sim_df = sim_df.merge(overlap, on='movieId', how='left')\n",
    "    sim_df = sim_df[sim_df['overlap'] >= min_overlap]\n",
    "\n",
    "    sim_df = sim_df.merge(stats, on='movieId', how='left')\n",
    "    sim_df = (sim_df.sort_values(['sim','overlap','n'], ascending=[False, False, False])\n",
    "                   .head(k)[['movieId','title','sim','overlap','avg_rating','n']]\n",
    "                   .reset_index(drop=True))\n",
    "    return sim_df\n"
   ]
  },
  {
   "cell_type": "markdown",
   "metadata": {},
   "source": [
    "Calculamos a similaridade de cosseno entre colunas (filmes), exigimos um mínimo de co-avaliações e apresentamos os vizinhos com título, média e contagem."
   ]
  },
  {
   "cell_type": "code",
   "execution_count": 79,
   "metadata": {},
   "outputs": [
    {
     "name": "stdout",
     "output_type": "stream",
     "text": [
      "Filme alvo (id interno): 12 — Star Wars: Episode V - The Empire Strikes Back (1980)\n",
      "Top-10 similares:\n",
      "   movieId                                              title       sim  \\\n",
      "0       19                              Reservoir Dogs (1992)  0.387021   \n",
      "1       33                          North by Northwest (1959)  0.322571   \n",
      "2       18         Life Is Beautiful (La Vita è bella) (1997)  0.208106   \n",
      "3       10                                   Dark City (1998)  0.202970   \n",
      "4       30                                  Collateral (2004)  0.165485   \n",
      "5       34                               Roman Holiday (1953)  0.143222   \n",
      "6       80  Fog of War: Eleven Lessons from the Life of Ro...  0.130304   \n",
      "7        4                       Bowling for Columbine (2002)  0.130289   \n",
      "8       38                     Guardians of the Galaxy (2014)  0.115949   \n",
      "9       46                         Straight Story, The (1999)  0.115886   \n",
      "\n",
      "   overlap  avg_rating     n  \n",
      "0     7056    4.061329  8006  \n",
      "1     4323    4.199626  4809  \n",
      "2     4641    4.043430  5411  \n",
      "3     4540    3.767080  5006  \n",
      "4     3561    3.651945  4087  \n",
      "5     1875    4.011510  2172  \n",
      "6     1177    4.052494  1343  \n",
      "7     4506    3.768186  5155  \n",
      "8      791    3.826776   915  \n",
      "9     1633    3.920497  1893  \n"
     ]
    }
   ],
   "source": [
    "movie_target = movie_stats_full.sort_values('n', ascending=False).iloc[0]['movieId']\n",
    "movie_title  = movie_stats_full.loc[movie_stats_full['movieId']==movie_target, 'title'].iloc[0]\n",
    "print(f\"Filme alvo (id interno): {int(movie_target)} — {movie_title}\")\n",
    "\n",
    "vizinhos = topk_similares_item(movie_target, k=10, min_overlap=3)\n",
    "print(\"Top-10 similares:\")\n",
    "print(vizinhos)"
   ]
  },
  {
   "cell_type": "markdown",
   "metadata": {},
   "source": [
    "Rodamos um caso concreto (alvo popular) para você já visualizar a lista de similares e verificar se faz sentido (mesmo gênero/época/elenco etc.)."
   ]
  }
 ],
 "metadata": {
  "colab": {
   "collapsed_sections": [],
   "machine_shape": "hm",
   "name": "Recomendação Não Personalizada.ipynb",
   "provenance": []
  },
  "kernelspec": {
   "display_name": "Python 3",
   "language": "python",
   "name": "python3"
  },
  "language_info": {
   "codemirror_mode": {
    "name": "ipython",
    "version": 3
   },
   "file_extension": ".py",
   "mimetype": "text/x-python",
   "name": "python",
   "nbconvert_exporter": "python",
   "pygments_lexer": "ipython3",
   "version": "3.10.12"
  }
 },
 "nbformat": 4,
 "nbformat_minor": 1
}
