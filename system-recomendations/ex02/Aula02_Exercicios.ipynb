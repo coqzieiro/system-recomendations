{
 "cells": [
  {
   "cell_type": "markdown",
   "id": "e6a1558b",
   "metadata": {},
   "source": [
    "## Aula 02 - Exercícios"
   ]
  },
  {
   "cell_type": "code",
   "execution_count": 1,
   "id": "8a724b78",
   "metadata": {},
   "outputs": [],
   "source": [
    "import pandas as pd\n",
    "import numpy as np"
   ]
  },
  {
   "cell_type": "markdown",
   "id": "41cbe675",
   "metadata": {},
   "source": [
    "### Importar base de dados"
   ]
  },
  {
   "cell_type": "code",
   "execution_count": 2,
   "id": "e5b8fe4c",
   "metadata": {},
   "outputs": [
    {
     "name": "stdout",
     "output_type": "stream",
     "text": [
      "100% [....................................................] 65019041 / 65019041\n",
      "Saved under ml-20m-compact.tar.gz\n",
      "dataset/\n",
      "dataset/tags_sample.csv\n",
      "dataset/._.DS_Store\n",
      "dataset/.DS_Store\n",
      "dataset/movies_sample.csv\n",
      "dataset/._genome-tags.csv\n",
      "dataset/genome-tags.csv\n",
      "dataset/._ml-youtube.csv\n",
      "dataset/ml-youtube.csv\n",
      "dataset/._genome-scores.csv\n",
      "dataset/genome-scores.csv\n",
      "dataset/ratings_sample.csv\n"
     ]
    }
   ],
   "source": [
    "import wget\n",
    "!python3 -m wget https://github.com/mmanzato/MBABigData/raw/master/ml-20m-compact.tar.gz\n",
    "!tar -xvzf ml-20m-compact.tar.gz"
   ]
  },
  {
   "cell_type": "code",
   "execution_count": 3,
   "id": "199cd619",
   "metadata": {},
   "outputs": [
    {
     "data": {
      "text/html": [
       "<div>\n",
       "<style scoped>\n",
       "    .dataframe tbody tr th:only-of-type {\n",
       "        vertical-align: middle;\n",
       "    }\n",
       "\n",
       "    .dataframe tbody tr th {\n",
       "        vertical-align: top;\n",
       "    }\n",
       "\n",
       "    .dataframe thead th {\n",
       "        text-align: right;\n",
       "    }\n",
       "</style>\n",
       "<table border=\"1\" class=\"dataframe\">\n",
       "  <thead>\n",
       "    <tr style=\"text-align: right;\">\n",
       "      <th></th>\n",
       "      <th>userId</th>\n",
       "      <th>movieId</th>\n",
       "      <th>rating</th>\n",
       "      <th>title</th>\n",
       "    </tr>\n",
       "  </thead>\n",
       "  <tbody>\n",
       "    <tr>\n",
       "      <th>0</th>\n",
       "      <td>11</td>\n",
       "      <td>7481</td>\n",
       "      <td>5.0</td>\n",
       "      <td>Enemy Mine (1985)</td>\n",
       "    </tr>\n",
       "    <tr>\n",
       "      <th>1</th>\n",
       "      <td>11</td>\n",
       "      <td>1046</td>\n",
       "      <td>4.5</td>\n",
       "      <td>Beautiful Thing (1996)</td>\n",
       "    </tr>\n",
       "    <tr>\n",
       "      <th>2</th>\n",
       "      <td>11</td>\n",
       "      <td>616</td>\n",
       "      <td>4.0</td>\n",
       "      <td>Aristocats, The (1970)</td>\n",
       "    </tr>\n",
       "    <tr>\n",
       "      <th>3</th>\n",
       "      <td>11</td>\n",
       "      <td>3535</td>\n",
       "      <td>2.0</td>\n",
       "      <td>American Psycho (2000)</td>\n",
       "    </tr>\n",
       "    <tr>\n",
       "      <th>4</th>\n",
       "      <td>11</td>\n",
       "      <td>5669</td>\n",
       "      <td>5.0</td>\n",
       "      <td>Bowling for Columbine (2002)</td>\n",
       "    </tr>\n",
       "    <tr>\n",
       "      <th>...</th>\n",
       "      <td>...</td>\n",
       "      <td>...</td>\n",
       "      <td>...</td>\n",
       "      <td>...</td>\n",
       "    </tr>\n",
       "    <tr>\n",
       "      <th>190616</th>\n",
       "      <td>138493</td>\n",
       "      <td>288</td>\n",
       "      <td>5.0</td>\n",
       "      <td>Natural Born Killers (1994)</td>\n",
       "    </tr>\n",
       "    <tr>\n",
       "      <th>190617</th>\n",
       "      <td>138493</td>\n",
       "      <td>1748</td>\n",
       "      <td>5.0</td>\n",
       "      <td>Dark City (1998)</td>\n",
       "    </tr>\n",
       "    <tr>\n",
       "      <th>190618</th>\n",
       "      <td>138493</td>\n",
       "      <td>616</td>\n",
       "      <td>4.0</td>\n",
       "      <td>Aristocats, The (1970)</td>\n",
       "    </tr>\n",
       "    <tr>\n",
       "      <th>190619</th>\n",
       "      <td>138493</td>\n",
       "      <td>1597</td>\n",
       "      <td>4.5</td>\n",
       "      <td>Conspiracy Theory (1997)</td>\n",
       "    </tr>\n",
       "    <tr>\n",
       "      <th>190620</th>\n",
       "      <td>138493</td>\n",
       "      <td>7371</td>\n",
       "      <td>5.0</td>\n",
       "      <td>Dogville (2003)</td>\n",
       "    </tr>\n",
       "  </tbody>\n",
       "</table>\n",
       "<p>190621 rows × 4 columns</p>\n",
       "</div>"
      ],
      "text/plain": [
       "        userId  movieId  rating                         title\n",
       "0           11     7481     5.0             Enemy Mine (1985)\n",
       "1           11     1046     4.5        Beautiful Thing (1996)\n",
       "2           11      616     4.0        Aristocats, The (1970)\n",
       "3           11     3535     2.0        American Psycho (2000)\n",
       "4           11     5669     5.0  Bowling for Columbine (2002)\n",
       "...        ...      ...     ...                           ...\n",
       "190616  138493      288     5.0   Natural Born Killers (1994)\n",
       "190617  138493     1748     5.0              Dark City (1998)\n",
       "190618  138493      616     4.0        Aristocats, The (1970)\n",
       "190619  138493     1597     4.5      Conspiracy Theory (1997)\n",
       "190620  138493     7371     5.0               Dogville (2003)\n",
       "\n",
       "[190621 rows x 4 columns]"
      ]
     },
     "execution_count": 3,
     "metadata": {},
     "output_type": "execute_result"
    }
   ],
   "source": [
    "movies = pd.read_csv('./dataset/movies_sample.csv')\n",
    "ratings = pd.read_csv('./dataset/ratings_sample.csv')\n",
    "df = ratings[['userId', 'movieId', 'rating']]\n",
    "df = df.merge(movies[['movieId', 'title']])\n",
    "df"
   ]
  },
  {
   "cell_type": "markdown",
   "id": "99a1b6d0",
   "metadata": {},
   "source": [
    "### Mapeamento de ids"
   ]
  },
  {
   "cell_type": "code",
   "execution_count": 4,
   "id": "771522e6",
   "metadata": {},
   "outputs": [],
   "source": [
    "map_users = {user: idx for idx, user in enumerate(df.userId.unique())}\n",
    "map_items = {item: idx for idx, item in enumerate(df.movieId.unique())}\n",
    "df['userId'] = df['userId'].map(map_users)\n",
    "df['movieId'] = df['movieId'].map(map_items)\n",
    "map_title = {}\n",
    "\n",
    "for _, row in df.iterrows():\n",
    "    map_title[row.movieId] = row.title\n"
   ]
  },
  {
   "cell_type": "markdown",
   "id": "ecc005a1",
   "metadata": {},
   "source": [
    "### Divisão da base em treino e teste"
   ]
  },
  {
   "cell_type": "code",
   "execution_count": 5,
   "id": "b1a6f771",
   "metadata": {},
   "outputs": [],
   "source": [
    "from sklearn.model_selection import train_test_split\n",
    "train, test = train_test_split(df, test_size=.2, random_state=2)"
   ]
  },
  {
   "cell_type": "markdown",
   "id": "0be522cd",
   "metadata": {},
   "source": [
    "**Exercício 01**: Considere o modelo SVD++ visto no final da aula de FC - parte 2. Uma das extensões desse modelo em relação ao SVD otimizado é que ele considera a lista de itens que o usuário forneceu feedback implícito (por exemplo, antes de fornecer uma nota a um filme, ele \"navegou\" por outros filmes, sem dar nota). Podemos simular essa navegação com a base de dados fornecida considerando como feedback implícito de cada usuário o conjunto de itens que ele avaliou, porém descartando as notas."
   ]
  },
  {
   "cell_type": "markdown",
   "id": "87f9f1da",
   "metadata": {},
   "source": [
    "***a)*** Implemente a função de treinamento do modelo SVD++."
   ]
  },
  {
   "cell_type": "code",
   "execution_count": null,
   "id": "1633b7bf",
   "metadata": {},
   "outputs": [],
   "source": [
    "import math\n",
    "import numpy as np\n",
    "import pandas as pd\n",
    "\n",
    "class SVDPP:\n",
    "    def __init__(self, n_users, n_items, n_factors=20, lr=0.01, reg=0.02, n_epochs=12, seed=42):\n",
    "        rng = np.random.default_rng(seed)\n",
    "        self.n_users = n_users\n",
    "        self.n_items = n_items\n",
    "        self.n_factors = n_factors\n",
    "        self.lr = lr\n",
    "        self.reg = reg\n",
    "        self.n_epochs = n_epochs\n",
    "\n",
    "        # parâmetros\n",
    "        self.mu = 0.0\n",
    "        self.bu = np.zeros(n_users, dtype=np.float32)\n",
    "        self.bi = np.zeros(n_items, dtype=np.float32)\n",
    "        self.P = rng.normal(0, 0.01, size=(n_users, n_factors)).astype(np.float32)\n",
    "        self.Q = rng.normal(0, 0.01, size=(n_items, n_factors)).astype(np.float32)\n",
    "        self.Y = rng.normal(0, 0.01, size=(n_items, n_factors)).astype(np.float32)  # fatores implícitos\n",
    "\n",
    "        self.Nu = None  # conjuntos implícitos por usuário\n",
    "\n",
    "    def _build_implicit_sets(self, df_train: pd.DataFrame):\n",
    "        Nu = [[] for _ in range(self.n_users)]\n",
    "        for u, i in zip(df_train['userId'].values, df_train['movieId'].values):\n",
    "            Nu[int(u)].append(int(i))\n",
    "        self.Nu = [np.array(v, dtype=np.int64) if len(v) else np.array([], dtype=np.int64) for v in Nu]\n",
    "\n",
    "    def _implicit_sum(self, u: int):\n",
    "        Iu = self.Nu[u]\n",
    "        if Iu.size == 0:\n",
    "            return np.zeros(self.n_factors, dtype=np.float32), 0.0\n",
    "        scale = 1.0 / math.sqrt(Iu.size)\n",
    "        return (scale * self.Y[Iu, :].sum(axis=0)).astype(np.float32), scale\n",
    "\n",
    "    def predict_single(self, u: int, i: int):\n",
    "        y_sum, _ = self._implicit_sum(u)\n",
    "        x = self.P[u] + y_sum\n",
    "        pred = self.mu + self.bu[u] + self.bi[i] + float(np.dot(self.Q[i], x))\n",
    "        return float(np.clip(pred, 0.5, 5.0))\n",
    "\n",
    "    def evaluate_rmse(self, df_eval: pd.DataFrame):\n",
    "        preds = np.array([self.predict_single(int(u), int(i)) for u, i in zip(df_eval['userId'], df_eval['movieId'])])\n",
    "        reals = df_eval['rating'].values.astype(np.float32)\n",
    "        return float(np.sqrt(np.mean((preds - reals) ** 2)))\n",
    "\n",
    "    def fit(self, df_train: pd.DataFrame, df_valid: pd.DataFrame = None, verbose=True):\n",
    "        self.mu = float(df_train['rating'].mean())\n",
    "        self._build_implicit_sets(df_train)\n",
    "\n",
    "        # agrupar avaliações por usuário\n",
    "        by_user = [[] for _ in range(self.n_users)]\n",
    "        for u, i, r in zip(df_train['userId'], df_train['movieId'], df_train['rating']):\n",
    "            by_user[int(u)].append((int(i), float(r)))\n",
    "\n",
    "        history = []\n",
    "        for epoch in range(self.n_epochs):\n",
    "            for u in range(self.n_users):\n",
    "                if not by_user[u]:\n",
    "                    continue\n",
    "                Iu = np.array([i for (i, _) in by_user[u]], dtype=np.int64)\n",
    "                y_sum, scale = self._implicit_sum(u)\n",
    "                pu = self.P[u]\n",
    "                bu = self.bu[u]\n",
    "\n",
    "                for (i, rui) in by_user[u]:\n",
    "                    qi = self.Q[i]\n",
    "                    bi = self.bi[i]\n",
    "\n",
    "                    x = pu + y_sum\n",
    "                    rhat = self.mu + bu + bi + float(np.dot(qi, x))\n",
    "                    err = rui - rhat\n",
    "\n",
    "                    self.bu[u] += self.lr * (err - self.reg * bu)\n",
    "                    self.bi[i] += self.lr * (err - self.reg * bi)\n",
    "\n",
    "                    qi_old = qi.copy()\n",
    "                    pu_old = pu.copy()\n",
    "\n",
    "                    self.Q[i] += self.lr * (err * x - self.reg * qi_old)\n",
    "                    self.P[u] += self.lr * (err * qi_old - self.reg * pu_old)\n",
    "\n",
    "                    if Iu.size > 0:\n",
    "                        self.Y[Iu] += self.lr * ((err * qi_old) * scale - self.reg * self.Y[Iu])\n",
    "\n",
    "            train_rmse = self.evaluate_rmse(df_train)\n",
    "            if df_valid is not None and len(df_valid) > 0:\n",
    "                valid_rmse = self.evaluate_rmse(df_valid)\n",
    "                history.append((epoch + 1, train_rmse, valid_rmse))\n",
    "                if verbose:\n",
    "                    print(f\"[Época {epoch+1}] RMSE Treino={train_rmse:.4f} | RMSE Teste={valid_rmse:.4f}\")\n",
    "            else:\n",
    "                history.append((epoch + 1, train_rmse, np.nan))\n",
    "        return history"
   ]
  },
  {
   "cell_type": "markdown",
   "id": "c20fb326",
   "metadata": {},
   "source": [
    "***b)*** Plote a curva de aprendizado de seu modelo."
   ]
  },
  {
   "cell_type": "code",
   "execution_count": 17,
   "id": "532ac145",
   "metadata": {},
   "outputs": [
    {
     "name": "stdout",
     "output_type": "stream",
     "text": [
      "[Época 1] RMSE Treino=0.8730 | RMSE Teste=0.8878\n",
      "[Época 2] RMSE Treino=0.8500 | RMSE Teste=0.8718\n",
      "[Época 3] RMSE Treino=0.8320 | RMSE Teste=0.8597\n",
      "[Época 4] RMSE Treino=0.8167 | RMSE Teste=0.8502\n",
      "[Época 5] RMSE Treino=0.8035 | RMSE Teste=0.8430\n",
      "[Época 6] RMSE Treino=0.7908 | RMSE Teste=0.8372\n",
      "[Época 7] RMSE Treino=0.7783 | RMSE Teste=0.8323\n",
      "[Época 8] RMSE Treino=0.7662 | RMSE Teste=0.8286\n",
      "[Época 9] RMSE Treino=0.7547 | RMSE Teste=0.8259\n",
      "[Época 10] RMSE Treino=0.7440 | RMSE Teste=0.8240\n",
      "[Época 11] RMSE Treino=0.7339 | RMSE Teste=0.8228\n",
      "[Época 12] RMSE Treino=0.7242 | RMSE Teste=0.8221\n"
     ]
    },
    {
     "data": {
      "image/png": "[encoded data removed]",
      "text/plain": [
       "<Figure size 600x400 with 1 Axes>"
      ]
     },
     "metadata": {},
     "output_type": "display_data"
    }
   ],
   "source": [
    "import matplotlib.pyplot as plt\n",
    "\n",
    "# Instanciando e treinando o modelo\n",
    "svdpp = SVDPP(n_users, n_items, n_factors=20, lr=0.01, reg=0.02, n_epochs=12, seed=42)\n",
    "hist = svdpp.fit(train, df_valid=test, verbose=True)\n",
    "\n",
    "epochs = [h[0] for h in hist]\n",
    "rmse_tr = [h[1] for h in hist]\n",
    "rmse_te = [h[2] for h in hist]\n",
    "\n",
    "plt.figure(figsize=(6,4))\n",
    "plt.plot(epochs, rmse_tr, marker='o', label='Treino')\n",
    "plt.plot(epochs, rmse_te, marker='o', label='Teste')\n",
    "plt.xlabel('Época'); plt.ylabel('RMSE')\n",
    "plt.title('SVD++ – Curva de aprendizado')\n",
    "plt.legend()\n",
    "plt.tight_layout()\n",
    "plt.show()\n"
   ]
  },
  {
   "cell_type": "markdown",
   "id": "dd03fd7c",
   "metadata": {},
   "source": [
    "***c)*** Implemente a função de predição do modelo SVD++, comparando algumas notas preditas com as notas reais do conjunto de teste."
   ]
  },
  {
   "cell_type": "code",
   "execution_count": 18,
   "id": "4a579eac",
   "metadata": {},
   "outputs": [
    {
     "name": "stdout",
     "output_type": "stream",
     "text": [
      "        userId  movieId                                              title  \\\n",
      "56823     3318       80  Fog of War: Eleven Lessons from the Life of Ro...   \n",
      "61435     3570       14                                          Go (1999)   \n",
      "42385     2465       20                     While You Were Sleeping (1995)   \n",
      "25741     1498      124                              Into the Woods (1991)   \n",
      "13170      776       91                                Fathers' Day (1997)   \n",
      "158374    9223       12  Star Wars: Episode V - The Empire Strikes Back...   \n",
      "47378     2764       55                                   Beethoven (1992)   \n",
      "43476     2533       34                               Roman Holiday (1953)   \n",
      "178953   10423      109                        Hot Tub Time Machine (2010)   \n",
      "158029    9205      165                           Ordet (Word, The) (1955)   \n",
      "\n",
      "        rating      pred  erro_abs  \n",
      "56823      4.0  3.950703  0.049297  \n",
      "61435      4.0  3.443415  0.556585  \n",
      "42385      2.5  2.516955  0.016955  \n",
      "25741      4.0  3.418151  0.581849  \n",
      "13170      2.0  2.567368  0.567368  \n",
      "158374     5.0  4.532801  0.467199  \n",
      "47378      2.0  2.269693  0.269693  \n",
      "43476      4.0  4.128498  0.128498  \n",
      "178953     3.0  2.794357  0.205643  \n",
      "158029     3.5  3.834099  0.334099  \n"
     ]
    }
   ],
   "source": [
    "amostra = test.sample(n=10, random_state=123).copy()\n",
    "amostra['pred'] = [svdpp.predict_single(int(u), int(i)) for u, i in zip(amostra['userId'], amostra['movieId'])]\n",
    "amostra['erro_abs'] = (amostra['pred'] - amostra['rating']).abs()\n",
    "print(amostra[['userId', 'movieId', 'title', 'rating', 'pred', 'erro_abs']])"
   ]
  },
  {
   "cell_type": "markdown",
   "id": "0e9e4711",
   "metadata": {},
   "source": [
    "**Exercício 02**: Utilizando o código do NCF visto na aula, compare o desempenho entre as instâncias GMF, MLP e NeuMF nesta base de dados (ml-20m-compact)."
   ]
  },
  {
   "cell_type": "code",
   "execution_count": null,
   "id": "5045a5d8",
   "metadata": {},
   "outputs": [
    {
     "name": "stdout",
     "output_type": "stream",
     "text": [
      "\n",
      "=== GMF ===\n",
      "[Época 1] RMSE Treino=3.1077 | RMSE Teste=3.0990\n",
      "[Época 2] RMSE Treino=2.9193 | RMSE Teste=2.9200\n",
      "[Época 3] RMSE Treino=2.1929 | RMSE Teste=2.2147\n",
      "[Época 4] RMSE Treino=1.3888 | RMSE Teste=1.4374\n",
      "[Época 5] RMSE Treino=0.9893 | RMSE Teste=1.0479\n",
      "\n",
      "=== MLP ===\n",
      "[Época 1] RMSE Treino=0.8655 | RMSE Teste=0.8978\n",
      "[Época 2] RMSE Treino=0.7946 | RMSE Teste=0.8528\n",
      "[Época 3] RMSE Treino=0.7915 | RMSE Teste=0.8518\n",
      "[Época 4] RMSE Treino=0.7904 | RMSE Teste=0.8511\n",
      "[Época 5] RMSE Treino=0.7892 | RMSE Teste=0.8505\n",
      "\n",
      "=== NeuMF ===\n",
      "[Época 1] RMSE Treino=0.8742 | RMSE Teste=0.8990\n",
      "[Época 2] RMSE Treino=0.7968 | RMSE Teste=0.8513\n",
      "[Época 3] RMSE Treino=0.7892 | RMSE Teste=0.8485\n",
      "[Época 4] RMSE Treino=0.7726 | RMSE Teste=0.8442\n",
      "[Época 5] RMSE Treino=0.7394 | RMSE Teste=0.8364\n",
      "\n",
      "=== Comparação de desempenho (RMSE Teste) ===\n",
      "GMF   : 1.0479\n",
      "MLP   : 0.8505\n",
      "NeuMF : 0.8364\n"
     ]
    },
    {
     "data": {
      "image/png": "[encoded data removed]",
      "text/plain": [
       "<Figure size 500x400 with 1 Axes>"
      ]
     },
     "metadata": {},
     "output_type": "display_data"
    }
   ],
   "source": [
    "import torch\n",
    "import torch.nn as nn\n",
    "from torch.utils.data import Dataset, DataLoader\n",
    "import math\n",
    "\n",
    "# Dataset PyTorch\n",
    "class RatingsDataset(Dataset):\n",
    "    def __init__(self, df):\n",
    "        self.u = df['userId'].astype(np.int64).values\n",
    "        self.i = df['movieId'].astype(np.int64).values\n",
    "        self.r = df['rating'].astype(np.float32).values\n",
    "    def __len__(self): return len(self.r)\n",
    "    def __getitem__(self, idx):\n",
    "        return (torch.tensor(self.u[idx]), torch.tensor(self.i[idx]), torch.tensor(self.r[idx]))\n",
    "\n",
    "# Modelos GMF, MLP e NeuMF\n",
    "class GMF(nn.Module):\n",
    "    def __init__(self, n_users, n_items, emb_dim=32):\n",
    "        super().__init__()\n",
    "        self.user_emb = nn.Embedding(n_users, emb_dim)\n",
    "        self.item_emb = nn.Embedding(n_items, emb_dim)\n",
    "        self.out = nn.Linear(emb_dim, 1)\n",
    "    def forward(self, u, i):\n",
    "        pu, qi = self.user_emb(u), self.item_emb(i)\n",
    "        return self.out(pu*qi).squeeze(1)\n",
    "\n",
    "class MLP(nn.Module):\n",
    "    def __init__(self, n_users, n_items, emb_dim=32, hidden=(64,32)):\n",
    "        super().__init__()\n",
    "        self.user_emb = nn.Embedding(n_users, emb_dim)\n",
    "        self.item_emb = nn.Embedding(n_items, emb_dim)\n",
    "        layers = []\n",
    "        in_dim = emb_dim*2\n",
    "        for h in hidden:\n",
    "            layers += [nn.Linear(in_dim,h), nn.ReLU()]\n",
    "            in_dim = h\n",
    "        self.mlp = nn.Sequential(*layers)\n",
    "        self.out = nn.Linear(in_dim,1)\n",
    "    def forward(self,u,i):\n",
    "        x = torch.cat([self.user_emb(u), self.item_emb(i)], dim=1)\n",
    "        return self.out(self.mlp(x)).squeeze(1)\n",
    "\n",
    "class NeuMF(nn.Module):\n",
    "    def __init__(self, n_users, n_items, emb_g=16, emb_m=16, hidden=(64,32)):\n",
    "        super().__init__()\n",
    "        self.ug, self.ig = nn.Embedding(n_users, emb_g), nn.Embedding(n_items, emb_g)\n",
    "        self.um, self.im = nn.Embedding(n_users, emb_m), nn.Embedding(n_items, emb_m)\n",
    "        layers=[]; in_dim=2*emb_m\n",
    "        for h in hidden: layers+=[nn.Linear(in_dim,h),nn.ReLU()]; in_dim=h\n",
    "        self.mlp=nn.Sequential(*layers)\n",
    "        self.out=nn.Linear(emb_g+in_dim,1)\n",
    "    def forward(self,u,i):\n",
    "        g=self.ug(u)*self.ig(i)\n",
    "        m=self.mlp(torch.cat([self.um(u),self.im(i)],dim=1))\n",
    "        return self.out(torch.cat([g,m],dim=1)).squeeze(1)\n",
    "\n",
    "# Funções de treino/avaliação\n",
    "def rmse_model(model, loader, device='cpu'):\n",
    "    model.eval(); se,n=0,0\n",
    "    with torch.no_grad():\n",
    "        for u,i,r in loader:\n",
    "            u,i,r=u.to(device),i.to(device),r.to(device)\n",
    "            pred=torch.clamp(model(u,i),0.5,5.0)\n",
    "            se+=(pred-r).pow(2).sum().item(); n+=len(r)\n",
    "    return math.sqrt(se/n)\n",
    "\n",
    "def train_model(model, train_loader, val_loader, epochs=5, device='cpu'):\n",
    "    opt=torch.optim.Adam(model.parameters(),lr=1e-3)\n",
    "    loss_fn=nn.MSELoss()\n",
    "    for ep in range(1,epochs+1):\n",
    "        model.train()\n",
    "        for u,i,r in train_loader:\n",
    "            u,i,r=u.to(device),i.to(device),r.to(device)\n",
    "            loss=loss_fn(model(u,i),r)\n",
    "            opt.zero_grad(); loss.backward(); opt.step()\n",
    "        print(f\"[Época {ep}] RMSE treino={rmse_model(model,train_loader,device):.4f} \"\n",
    "              f\"| RMSE teste={rmse_model(model,val_loader,device):.4f}\")\n",
    "\n",
    "# Dataloaders\n",
    "train_loader=DataLoader(RatingsDataset(train),batch_size=2048,shuffle=True)\n",
    "test_loader=DataLoader(RatingsDataset(test),batch_size=2048)\n",
    "\n",
    "# Rodar GMF, MLP e NeuMF\n",
    "device='cuda' if torch.cuda.is_available() else 'cpu'\n",
    "print(\"=== GMF ===\"); train_model(GMF(n_users,n_items),train_loader,test_loader,epochs=5,device=device)\n",
    "print(\"=== MLP ===\"); train_model(MLP(n_users,n_items),train_loader,test_loader,epochs=5,device=device)\n",
    "print(\"=== NeuMF ===\"); train_model(NeuMF(n_users,n_items),train_loader,test_loader,epochs=5,device=device)"
   ]
  }
 ],
 "metadata": {
  "kernelspec": {
   "display_name": "Python 3",
   "language": "python",
   "name": "python3"
  },
  "language_info": {
   "codemirror_mode": {
    "name": "ipython",
    "version": 3
   },
   "file_extension": ".py",
   "mimetype": "text/x-python",
   "name": "python",
   "nbconvert_exporter": "python",
   "pygments_lexer": "ipython3",
   "version": "3.10.12"
  }
 },
 "nbformat": 4,
 "nbformat_minor": 5
}
