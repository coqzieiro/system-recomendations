{
 "cells": [
  {
   "cell_type": "markdown",
   "id": "4a73ef97",
   "metadata": {},
   "source": [
    "## Aula 03 - Filtragem Baseada em Conteúdo - Exercícios"
   ]
  },
  {
   "cell_type": "code",
   "execution_count": 1,
   "id": "8fc65b0b",
   "metadata": {},
   "outputs": [],
   "source": [
    "import pandas as pd\n",
    "import numpy as np"
   ]
  },
  {
   "cell_type": "markdown",
   "id": "ff31c492",
   "metadata": {},
   "source": [
    "### Importar base de dados"
   ]
  },
  {
   "cell_type": "code",
   "execution_count": 72,
   "id": "6e33e890",
   "metadata": {},
   "outputs": [
    {
     "name": "stdout",
     "output_type": "stream",
     "text": [
      "100% [....................................................] 65019041 / 65019041\n",
      "Saved under ml-20m-compact.tar.gz\n",
      "x dataset/\n",
      "x dataset/tags_sample.csv\n",
      "x dataset/.DS_Store\n",
      "x dataset/movies_sample.csv\n",
      "x dataset/genome-tags.csv\n",
      "x dataset/ml-youtube.csv\n",
      "x dataset/genome-scores.csv\n",
      "x dataset/ratings_sample.csv\n"
     ]
    }
   ],
   "source": [
    "import wget\n",
    "!python3 -m wget https://github.com/mmanzato/MBABigData/raw/master/ml-20m-compact.tar.gz\n",
    "!tar -xvzf ml-20m-compact.tar.gz"
   ]
  },
  {
   "cell_type": "code",
   "execution_count": 2,
   "id": "1aa3f489",
   "metadata": {},
   "outputs": [
    {
     "data": {
      "text/html": [
       "<div>\n",
       "<style scoped>\n",
       "    .dataframe tbody tr th:only-of-type {\n",
       "        vertical-align: middle;\n",
       "    }\n",
       "\n",
       "    .dataframe tbody tr th {\n",
       "        vertical-align: top;\n",
       "    }\n",
       "\n",
       "    .dataframe thead th {\n",
       "        text-align: right;\n",
       "    }\n",
       "</style>\n",
       "<table border=\"1\" class=\"dataframe\">\n",
       "  <thead>\n",
       "    <tr style=\"text-align: right;\">\n",
       "      <th></th>\n",
       "      <th>userId</th>\n",
       "      <th>movieId</th>\n",
       "      <th>rating</th>\n",
       "      <th>title</th>\n",
       "    </tr>\n",
       "  </thead>\n",
       "  <tbody>\n",
       "    <tr>\n",
       "      <th>0</th>\n",
       "      <td>11</td>\n",
       "      <td>7481</td>\n",
       "      <td>5.0</td>\n",
       "      <td>Enemy Mine (1985)</td>\n",
       "    </tr>\n",
       "    <tr>\n",
       "      <th>1</th>\n",
       "      <td>359</td>\n",
       "      <td>7481</td>\n",
       "      <td>4.0</td>\n",
       "      <td>Enemy Mine (1985)</td>\n",
       "    </tr>\n",
       "    <tr>\n",
       "      <th>2</th>\n",
       "      <td>422</td>\n",
       "      <td>7481</td>\n",
       "      <td>3.0</td>\n",
       "      <td>Enemy Mine (1985)</td>\n",
       "    </tr>\n",
       "    <tr>\n",
       "      <th>3</th>\n",
       "      <td>424</td>\n",
       "      <td>7481</td>\n",
       "      <td>3.0</td>\n",
       "      <td>Enemy Mine (1985)</td>\n",
       "    </tr>\n",
       "    <tr>\n",
       "      <th>4</th>\n",
       "      <td>744</td>\n",
       "      <td>7481</td>\n",
       "      <td>3.0</td>\n",
       "      <td>Enemy Mine (1985)</td>\n",
       "    </tr>\n",
       "    <tr>\n",
       "      <th>...</th>\n",
       "      <td>...</td>\n",
       "      <td>...</td>\n",
       "      <td>...</td>\n",
       "      <td>...</td>\n",
       "    </tr>\n",
       "    <tr>\n",
       "      <th>190616</th>\n",
       "      <td>131651</td>\n",
       "      <td>118606</td>\n",
       "      <td>3.5</td>\n",
       "      <td>Dots (1940)</td>\n",
       "    </tr>\n",
       "    <tr>\n",
       "      <th>190617</th>\n",
       "      <td>134567</td>\n",
       "      <td>118606</td>\n",
       "      <td>3.5</td>\n",
       "      <td>Dots (1940)</td>\n",
       "    </tr>\n",
       "    <tr>\n",
       "      <th>190618</th>\n",
       "      <td>131651</td>\n",
       "      <td>96257</td>\n",
       "      <td>1.0</td>\n",
       "      <td>Heroic Purgatory (Rengoku eroica) (1970)</td>\n",
       "    </tr>\n",
       "    <tr>\n",
       "      <th>190619</th>\n",
       "      <td>131651</td>\n",
       "      <td>98337</td>\n",
       "      <td>4.0</td>\n",
       "      <td>97 Percent True (2008)</td>\n",
       "    </tr>\n",
       "    <tr>\n",
       "      <th>190620</th>\n",
       "      <td>131904</td>\n",
       "      <td>101666</td>\n",
       "      <td>2.0</td>\n",
       "      <td>Night in Heaven, A (1983)</td>\n",
       "    </tr>\n",
       "  </tbody>\n",
       "</table>\n",
       "<p>190621 rows × 4 columns</p>\n",
       "</div>"
      ],
      "text/plain": [
       "        userId  movieId  rating                                     title\n",
       "0           11     7481     5.0                         Enemy Mine (1985)\n",
       "1          359     7481     4.0                         Enemy Mine (1985)\n",
       "2          422     7481     3.0                         Enemy Mine (1985)\n",
       "3          424     7481     3.0                         Enemy Mine (1985)\n",
       "4          744     7481     3.0                         Enemy Mine (1985)\n",
       "...        ...      ...     ...                                       ...\n",
       "190616  131651   118606     3.5                               Dots (1940)\n",
       "190617  134567   118606     3.5                               Dots (1940)\n",
       "190618  131651    96257     1.0  Heroic Purgatory (Rengoku eroica) (1970)\n",
       "190619  131651    98337     4.0                    97 Percent True (2008)\n",
       "190620  131904   101666     2.0                 Night in Heaven, A (1983)\n",
       "\n",
       "[190621 rows x 4 columns]"
      ]
     },
     "execution_count": 2,
     "metadata": {},
     "output_type": "execute_result"
    }
   ],
   "source": [
    "movies = pd.read_csv('./dataset/movies_sample.csv')\n",
    "ratings = pd.read_csv('./dataset/ratings_sample.csv')\n",
    "df = ratings[['userId', 'movieId', 'rating']]\n",
    "df = df.merge(movies[['movieId', 'title']])\n",
    "df"
   ]
  },
  {
   "cell_type": "code",
   "execution_count": 3,
   "id": "0bd9ec33",
   "metadata": {},
   "outputs": [
    {
     "data": {
      "text/html": [
       "<div>\n",
       "<style scoped>\n",
       "    .dataframe tbody tr th:only-of-type {\n",
       "        vertical-align: middle;\n",
       "    }\n",
       "\n",
       "    .dataframe tbody tr th {\n",
       "        vertical-align: top;\n",
       "    }\n",
       "\n",
       "    .dataframe thead th {\n",
       "        text-align: right;\n",
       "    }\n",
       "</style>\n",
       "<table border=\"1\" class=\"dataframe\">\n",
       "  <thead>\n",
       "    <tr style=\"text-align: right;\">\n",
       "      <th></th>\n",
       "      <th>userId</th>\n",
       "      <th>movieId</th>\n",
       "      <th>tag</th>\n",
       "      <th>timestamp_y</th>\n",
       "    </tr>\n",
       "  </thead>\n",
       "  <tbody>\n",
       "    <tr>\n",
       "      <th>0</th>\n",
       "      <td>279</td>\n",
       "      <td>916</td>\n",
       "      <td>Gregory Peck</td>\n",
       "      <td>1329962459</td>\n",
       "    </tr>\n",
       "    <tr>\n",
       "      <th>1</th>\n",
       "      <td>279</td>\n",
       "      <td>916</td>\n",
       "      <td>need to own</td>\n",
       "      <td>1329962471</td>\n",
       "    </tr>\n",
       "    <tr>\n",
       "      <th>2</th>\n",
       "      <td>279</td>\n",
       "      <td>916</td>\n",
       "      <td>romantic comedy</td>\n",
       "      <td>1329962476</td>\n",
       "    </tr>\n",
       "    <tr>\n",
       "      <th>3</th>\n",
       "      <td>279</td>\n",
       "      <td>916</td>\n",
       "      <td>Rome</td>\n",
       "      <td>1329962490</td>\n",
       "    </tr>\n",
       "    <tr>\n",
       "      <th>4</th>\n",
       "      <td>279</td>\n",
       "      <td>916</td>\n",
       "      <td>royalty</td>\n",
       "      <td>1329962474</td>\n",
       "    </tr>\n",
       "  </tbody>\n",
       "</table>\n",
       "</div>"
      ],
      "text/plain": [
       "   userId  movieId              tag  timestamp_y\n",
       "0     279      916     Gregory Peck   1329962459\n",
       "1     279      916      need to own   1329962471\n",
       "2     279      916  romantic comedy   1329962476\n",
       "3     279      916             Rome   1329962490\n",
       "4     279      916          royalty   1329962474"
      ]
     },
     "execution_count": 3,
     "metadata": {},
     "output_type": "execute_result"
    }
   ],
   "source": [
    "movies_tags = pd.read_csv('./dataset/tags_sample.csv')\n",
    "movies_tags.head()"
   ]
  },
  {
   "cell_type": "code",
   "execution_count": 4,
   "id": "e2def9b6",
   "metadata": {},
   "outputs": [],
   "source": [
    "map_users = {user: idx for idx, user in enumerate(df.userId.unique())}\n",
    "map_items = {item: idx for idx, item in enumerate(df.movieId.unique())}\n",
    "df['userId'] = df['userId'].map(map_users)\n",
    "df['movieId'] = df['movieId'].map(map_items)\n",
    "movies_tags['userId'] = movies_tags['userId'].map(map_users)\n",
    "movies_tags['movieId'] = movies_tags['movieId'].map(map_items)\n",
    "map_title = {}\n",
    "\n",
    "for _, row in df.iterrows():\n",
    "    map_title[row.movieId] = row.title\n"
   ]
  },
  {
   "cell_type": "code",
   "execution_count": 5,
   "id": "0c20039f",
   "metadata": {},
   "outputs": [
    {
     "data": {
      "text/html": [
       "<div>\n",
       "<style scoped>\n",
       "    .dataframe tbody tr th:only-of-type {\n",
       "        vertical-align: middle;\n",
       "    }\n",
       "\n",
       "    .dataframe tbody tr th {\n",
       "        vertical-align: top;\n",
       "    }\n",
       "\n",
       "    .dataframe thead th {\n",
       "        text-align: right;\n",
       "    }\n",
       "</style>\n",
       "<table border=\"1\" class=\"dataframe\">\n",
       "  <thead>\n",
       "    <tr style=\"text-align: right;\">\n",
       "      <th></th>\n",
       "      <th>userId</th>\n",
       "      <th>movieId</th>\n",
       "      <th>tag</th>\n",
       "      <th>timestamp_y</th>\n",
       "    </tr>\n",
       "  </thead>\n",
       "  <tbody>\n",
       "    <tr>\n",
       "      <th>0</th>\n",
       "      <td>11080</td>\n",
       "      <td>34</td>\n",
       "      <td>Gregory Peck</td>\n",
       "      <td>1329962459</td>\n",
       "    </tr>\n",
       "    <tr>\n",
       "      <th>1</th>\n",
       "      <td>11080</td>\n",
       "      <td>34</td>\n",
       "      <td>need to own</td>\n",
       "      <td>1329962471</td>\n",
       "    </tr>\n",
       "    <tr>\n",
       "      <th>2</th>\n",
       "      <td>11080</td>\n",
       "      <td>34</td>\n",
       "      <td>romantic comedy</td>\n",
       "      <td>1329962476</td>\n",
       "    </tr>\n",
       "    <tr>\n",
       "      <th>3</th>\n",
       "      <td>11080</td>\n",
       "      <td>34</td>\n",
       "      <td>Rome</td>\n",
       "      <td>1329962490</td>\n",
       "    </tr>\n",
       "    <tr>\n",
       "      <th>4</th>\n",
       "      <td>11080</td>\n",
       "      <td>34</td>\n",
       "      <td>royalty</td>\n",
       "      <td>1329962474</td>\n",
       "    </tr>\n",
       "  </tbody>\n",
       "</table>\n",
       "</div>"
      ],
      "text/plain": [
       "   userId  movieId              tag  timestamp_y\n",
       "0   11080       34     Gregory Peck   1329962459\n",
       "1   11080       34      need to own   1329962471\n",
       "2   11080       34  romantic comedy   1329962476\n",
       "3   11080       34             Rome   1329962490\n",
       "4   11080       34          royalty   1329962474"
      ]
     },
     "execution_count": 5,
     "metadata": {},
     "output_type": "execute_result"
    }
   ],
   "source": [
    "movies_tags.head()"
   ]
  },
  {
   "cell_type": "markdown",
   "id": "9936409b",
   "metadata": {},
   "source": [
    "### Divisão da base em treino e teste"
   ]
  },
  {
   "cell_type": "code",
   "execution_count": 6,
   "id": "a43fa3d7",
   "metadata": {},
   "outputs": [],
   "source": [
    "from sklearn.model_selection import train_test_split\n",
    "train, test = train_test_split(df, test_size=.2, random_state=2)"
   ]
  },
  {
   "cell_type": "markdown",
   "id": "fdb6be08",
   "metadata": {},
   "source": [
    "***Exercício 01:*** Aplique a filtragem baseada em conteúdo (ItemAttributeKNN do CaseRecommender) com as tags associadas aos filmes da base. Utilize Jaccard como métrica de similaridade e k=5 vizinhos para predição.\n",
    "\n",
    "Documentação do ItemAttributeKNN: https://github.com/caserec/CaseRecommender/blob/master/caserec/recommenders/rating_prediction/item_attribute_knn.py"
   ]
  },
  {
   "cell_type": "code",
   "execution_count": null,
   "id": "caca125b",
   "metadata": {},
   "outputs": [],
   "source": [
    "# TODO"
   ]
  },
  {
   "cell_type": "markdown",
   "id": "4c8e8b11",
   "metadata": {},
   "source": [
    "### Preparação para o exercício 2 - Download e extração de metadados multimídia"
   ]
  },
  {
   "cell_type": "code",
   "execution_count": 7,
   "id": "5458bd6a",
   "metadata": {},
   "outputs": [
    {
     "name": "stdout",
     "output_type": "stream",
     "text": [
      "100% [......................................................] 5996435 / 5996435\n",
      "Saved under ml-20m-features.tar.gz\n",
      "x features/\n",
      "x features/m4infus_max_histogram_300_sn.arq\n",
      "x features/mm_avg_histogram_100_sn.arq\n",
      "x features/visual_histogram_100_sn.arq\n",
      "x features/visual_histogram_50_sn.arq\n",
      "x features/aural_histogram_50.arq\n",
      "x features/mm_max_histogram_300.arq\n",
      "x features/m4infus_max_histogram_50.arq\n",
      "x features/mm_max_histogram_100.arq\n",
      "x features/mm_max_histogram_50_sn.arq\n",
      "x features/visual_histogram_100.arq\n",
      "x features/visual_histogram_300.arq\n",
      "x features/aural_histogram_100_sn.arq\n",
      "x features/mm_avg_histogram_100.arq\n",
      "x features/mm_max_histogram_100_sn.arq\n",
      "x features/mm_sum_histogram_100_sn.arq\n",
      "x features/mm_avg_histogram_300.arq\n",
      "x features/visual_histogram_300_sn.arq\n",
      "x features/mm_avg_histogram_300_sn.arq\n",
      "x features/m4infus_max_histogram_100.arq\n",
      "x features/m4infus_max_histogram_100_sn.arq\n",
      "x features/mm_sum_histogram_50_sn.arq\n",
      "x features/m4infus_max_histogram_300.arq\n",
      "x features/mm_avg_histogram_50_sn.arq\n",
      "x features/mm_sum_histogram_50.arq\n",
      "x features/visual_histogram_50.arq\n",
      "x features/aural_histogram_50_sn.arq\n",
      "x features/mm_sum_histogram_300.arq\n",
      "x features/m4infus_max_histogram_50_sn.arq\n",
      "x features/mm_max_histogram_50.arq\n",
      "x features/mm_avg_histogram_50.arq\n",
      "x features/mm_max_histogram_300_sn.arq\n",
      "x features/mm_sum_histogram_300_sn.arq\n",
      "x features/mm_sum_histogram_100.arq\n",
      "x features/aural_histogram_300.arq\n",
      "x features/aural_histogram_300_sn.arq\n",
      "x features/aural_histogram_100.arq\n"
     ]
    }
   ],
   "source": [
    "!python3 -m wget https://github.com/mmanzato/MBABigData/raw/master/ml-20m-features.tar.gz\n",
    "! tar -xvzf ml-20m-features.tar.gz"
   ]
  },
  {
   "cell_type": "code",
   "execution_count": 7,
   "id": "76f2c0dc",
   "metadata": {},
   "outputs": [
    {
     "name": "stdout",
     "output_type": "stream",
     "text": [
      "No. movies: 433\n",
      "Size of each word: 50\n"
     ]
    }
   ],
   "source": [
    "import pickle\n",
    "\n",
    "with open('./features/visual_histogram_50.arq', 'rb') as arq_visualHistograms:\n",
    "    visualHistograms = pickle.load(arq_visualHistograms)\n",
    "print('No. movies: ' + str(len(visualHistograms)))\n",
    "print('Size of each word: ' + str(len(visualHistograms[0])))"
   ]
  },
  {
   "cell_type": "code",
   "execution_count": 8,
   "id": "be058141",
   "metadata": {},
   "outputs": [
    {
     "data": {
      "text/plain": [
       "array([0.00948992, 0.00237248, 0.00355872, 0.01304864, 0.05338078,\n",
       "       0.00711744, 0.05456702, 0.00355872, 0.0059312 , 0.00355872,\n",
       "       0.0059312 , 0.00474496, 0.00711744, 0.04507711, 0.07591934,\n",
       "       0.00355872, 0.1316726 , 0.05338078, 0.00830368, 0.        ,\n",
       "       0.01304864, 0.00474496, 0.02253855, 0.00355872, 0.02728351,\n",
       "       0.00237248, 0.02016607, 0.00830368, 0.0059312 , 0.00237248,\n",
       "       0.00355872, 0.04033215, 0.01067616, 0.00237248, 0.00830368,\n",
       "       0.05931198, 0.0059312 , 0.01067616, 0.02965599, 0.01423488,\n",
       "       0.00711744, 0.02609727, 0.        , 0.00237248, 0.01423488,\n",
       "       0.03084223, 0.02016607, 0.00118624, 0.08778173, 0.02253855])"
      ]
     },
     "execution_count": 8,
     "metadata": {},
     "output_type": "execute_result"
    }
   ],
   "source": [
    "visualHistograms[0]"
   ]
  },
  {
   "cell_type": "markdown",
   "id": "f7ae2452",
   "metadata": {},
   "source": [
    "***Exercício 02:*** Como visto, o algoritmo ItemAttributeKNN pode ser usado com diferentes tipos de metadados, como gêneros, tags e palavras no geral. Mais do que isso, podemos adaptá-lo também para que a similaridade entre itens seja feita com base em informações multimídia, como imagens, áudio, etc. \n",
    "\n",
    "A base de dados utilizada até o momento, ml-20m-compact.tar.gz possui, além das interações de usuários com filmes, uma série de arquivos que contém informações multimídia que foram extraídas dos trailers de cada filme. Esses arquivos estão condensados no zip ml-20m-features.tar.gz, o qual foi feito o download e extraído acima. \n",
    "\n",
    "Considere por exemplo o arquivo visual_histogram_50.arq. Ele possui 433 vetores (no. de filmes) de tamanho 50. Podemos pensar que cada vetor desse representa informações visuais (cor, brilho, imagem, etc.) que foram extraídas dos trailers de cada filme. \n",
    "\n",
    "Sua tarefa é usar esses vetores de características visuais no cálculo de similaridade entre os filmes, e em seguida, aplicar essas similaridades no algoritmo ItemAttributeKNN para gerar recomendações. \n",
    "\n",
    "Dica 1: para calcular a similaridade entre dois vetores pode-se usar o ângulo de cosseno (vide https://en.wikipedia.org/wiki/Cosine_similarity). \n",
    "\n",
    "Dica 2: é possível passar para o algoritmo ItemAttributeKNN a matriz de similaridade entre itens, por meio do parâmetro similarity_file=arquivo. Veja em: https://github.com/caserec/CaseRecommender/blob/master/caserec/recommenders/rating_prediction/item_attribute_knn.py"
   ]
  },
  {
   "cell_type": "code",
   "execution_count": null,
   "id": "a764c634",
   "metadata": {},
   "outputs": [],
   "source": [
    "# TODO"
   ]
  },
  {
   "cell_type": "markdown",
   "id": "feaa7ce1",
   "metadata": {},
   "source": [
    "***Exercício 03:*** Implementar uma função que retorna a probabilidade de um item ser relevante para um usuário, considerando os gêneros dos filmes. Utilize métodos probabilísticos. \n",
    "- A partir do conjunto de treinamento, obter todas as interações do usuário u.\n",
    "- Rotular as notas desse usuário como: item relevante se nota >=3 e não relevante se nota < 3. \n",
    "- Dado um item do conjunto de teste, aplicar o Teorema de Bayes com suavização de Laplace. Utilizar os gêneros associados. \n",
    "- Retornar se o item é ou não relevante, e em seguida, comparar o resultado com a nota real que esse usuário deu para o item (disponível no conjunto de teste)."
   ]
  },
  {
   "cell_type": "code",
   "execution_count": null,
   "id": "ddbbd877",
   "metadata": {},
   "outputs": [],
   "source": [
    "# TODO"
   ]
  },
  {
   "cell_type": "markdown",
   "id": "f2b4fc7d",
   "metadata": {},
   "source": [
    "***Exercício 04:*** No notebook de exemplos, existe uma implementação de Filtragem Baseada em Conteúdo usando Multi-Layer Perceptron como um regressor (MLPRegressor) que prevê a nota de cada usuário para filmes ainda não vistos. O algoritmo retorna uma lista de top K filmes com maiores notas. O treinamento é realizado utilizando as notas que o usuário deu para os filmes e seus respectivos gêneros.\n",
    "- Usando a classe MLPClassifier (https://scikit-learn.org/stable/modules/generated/sklearn.neural_network.MLPClassifier.html), implemente uma versão que classifica os filmes não vistos como relevante ou não-relevante.\n",
    "- No conjunto de dados, realize a binarização das notas, de modo que notas acima de 3 são relevantes e notas abaixo de 3 são não-relevantes.\n",
    "- Retorne os top k filmes mais relevantes.\n",
    "- Para um usuário qualquer da base (ou algum outro usuário fictício), analise subjetivamente a qualidade das recomendações, comparando os modelos MLPRegressor e MLPClassifier. "
   ]
  },
  {
   "cell_type": "code",
   "execution_count": null,
   "id": "9998dd70",
   "metadata": {},
   "outputs": [],
   "source": [
    "# TODO"
   ]
  }
 ],
 "metadata": {
  "kernelspec": {
   "display_name": "Python 3 (ipykernel)",
   "language": "python",
   "name": "python3"
  },
  "language_info": {
   "codemirror_mode": {
    "name": "ipython",
    "version": 3
   },
   "file_extension": ".py",
   "mimetype": "text/x-python",
   "name": "python",
   "nbconvert_exporter": "python",
   "pygments_lexer": "ipython3",
   "version": "3.8.5"
  }
 },
 "nbformat": 4,
 "nbformat_minor": 5
}
